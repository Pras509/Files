{
 "cells": [
  {
   "cell_type": "code",
   "execution_count": 1,
   "id": "b050e1e7",
   "metadata": {},
   "outputs": [
    {
     "name": "stdout",
     "output_type": "stream",
     "text": [
      "Requirement already satisfied: bs4 in c:\\users\\ansh\\anaconda3\\lib\\site-packages (0.0.1)\n",
      "Requirement already satisfied: beautifulsoup4 in c:\\users\\ansh\\anaconda3\\lib\\site-packages (from bs4) (4.11.1)\n",
      "Requirement already satisfied: soupsieve>1.2 in c:\\users\\ansh\\anaconda3\\lib\\site-packages (from beautifulsoup4->bs4) (2.3.1)\n",
      "Requirement already satisfied: requests in c:\\users\\ansh\\anaconda3\\lib\\site-packages (2.27.1)\n",
      "Requirement already satisfied: charset-normalizer~=2.0.0 in c:\\users\\ansh\\anaconda3\\lib\\site-packages (from requests) (2.0.4)\n",
      "Requirement already satisfied: urllib3<1.27,>=1.21.1 in c:\\users\\ansh\\anaconda3\\lib\\site-packages (from requests) (1.26.9)\n",
      "Requirement already satisfied: idna<4,>=2.5 in c:\\users\\ansh\\anaconda3\\lib\\site-packages (from requests) (3.3)\n",
      "Requirement already satisfied: certifi>=2017.4.17 in c:\\users\\ansh\\anaconda3\\lib\\site-packages (from requests) (2021.10.8)\n"
     ]
    }
   ],
   "source": [
    "!pip install bs4\n",
    "!pip install requests"
   ]
  },
  {
   "cell_type": "code",
   "execution_count": 1,
   "id": "57a7bfc2",
   "metadata": {},
   "outputs": [],
   "source": [
    "from bs4 import BeautifulSoup\n",
    "import requests"
   ]
  },
  {
   "cell_type": "code",
   "execution_count": 3,
   "id": "7556867d",
   "metadata": {},
   "outputs": [],
   "source": [
    "page = requests.get('https://www.imdb.com/chart/top/')"
   ]
  },
  {
   "cell_type": "code",
   "execution_count": 4,
   "id": "41ff6978",
   "metadata": {},
   "outputs": [
    {
     "data": {
      "text/plain": [
       "<Response [200]>"
      ]
     },
     "execution_count": 4,
     "metadata": {},
     "output_type": "execute_result"
    }
   ],
   "source": [
    "page"
   ]
  },
  {
   "cell_type": "code",
   "execution_count": 5,
   "id": "c877d84d",
   "metadata": {},
   "outputs": [],
   "source": [
    "soup = BeautifulSoup(page.content)"
   ]
  },
  {
   "cell_type": "code",
   "execution_count": 45,
   "id": "b9c3c71b",
   "metadata": {},
   "outputs": [],
   "source": [
    "first_title = soup.find('td', class_ = \"titleColumn\")"
   ]
  },
  {
   "cell_type": "code",
   "execution_count": 47,
   "id": "d8a9aba2",
   "metadata": {},
   "outputs": [
    {
     "data": {
      "text/plain": [
       "'\\n      1.\\n      The Shawshank Redemption\\n(1994)\\n'"
      ]
     },
     "execution_count": 47,
     "metadata": {},
     "output_type": "execute_result"
    }
   ],
   "source": [
    "first_title.text"
   ]
  },
  {
   "cell_type": "code",
   "execution_count": 51,
   "id": "e8a28a2c",
   "metadata": {},
   "outputs": [
    {
     "data": {
      "text/plain": [
       "'      1.      The Shawshank Redemption(1994)'"
      ]
     },
     "execution_count": 51,
     "metadata": {},
     "output_type": "execute_result"
    }
   ],
   "source": [
    "ft_text = first_title.text.replace('\\n', '')\n",
    "ft_text"
   ]
  },
  {
   "cell_type": "code",
   "execution_count": 15,
   "id": "7acc8893",
   "metadata": {},
   "outputs": [],
   "source": [
    "year = soup.find('span', class_ = \"secondaryInfo\")"
   ]
  },
  {
   "cell_type": "code",
   "execution_count": 16,
   "id": "bdb1ba43",
   "metadata": {},
   "outputs": [
    {
     "data": {
      "text/plain": [
       "'(1994)'"
      ]
     },
     "execution_count": 16,
     "metadata": {},
     "output_type": "execute_result"
    }
   ],
   "source": [
    "year.text"
   ]
  },
  {
   "cell_type": "code",
   "execution_count": 17,
   "id": "4fe74d93",
   "metadata": {},
   "outputs": [],
   "source": [
    "rating = soup.find('td', class_=\"ratingColumn imdbRating\")"
   ]
  },
  {
   "cell_type": "code",
   "execution_count": 18,
   "id": "df833e90",
   "metadata": {},
   "outputs": [
    {
     "data": {
      "text/plain": [
       "'\\n9.2\\n'"
      ]
     },
     "execution_count": 18,
     "metadata": {},
     "output_type": "execute_result"
    }
   ],
   "source": [
    "rating.text"
   ]
  },
  {
   "cell_type": "code",
   "execution_count": 23,
   "id": "d80c6b81",
   "metadata": {},
   "outputs": [
    {
     "data": {
      "text/plain": [
       "'9.2'"
      ]
     },
     "execution_count": 23,
     "metadata": {},
     "output_type": "execute_result"
    }
   ],
   "source": [
    "rating.text.replace('\\n', '',)"
   ]
  },
  {
   "cell_type": "code",
   "execution_count": 37,
   "id": "ea3b29ea",
   "metadata": {},
   "outputs": [],
   "source": [
    "title = []\n",
    "for i in soup.find_all('span', class_ = \"secondaryInfo\"):\n",
    "    title.append(i.text)"
   ]
  },
  {
   "cell_type": "code",
   "execution_count": 38,
   "id": "664b3229",
   "metadata": {},
   "outputs": [
    {
     "data": {
      "text/plain": [
       "['(1994)',\n",
       " '(1972)',\n",
       " '(2008)',\n",
       " '(1974)',\n",
       " '(1957)',\n",
       " '(1993)',\n",
       " '(2003)',\n",
       " '(1994)',\n",
       " '(2001)',\n",
       " '(1966)',\n",
       " '(1994)',\n",
       " '(1999)',\n",
       " '(2010)',\n",
       " '(2002)',\n",
       " '(1980)',\n",
       " '(1999)',\n",
       " '(1990)',\n",
       " '(1975)',\n",
       " '(1995)',\n",
       " '(1954)',\n",
       " '(1946)',\n",
       " '(1991)',\n",
       " '(2002)',\n",
       " '(1998)',\n",
       " '(1997)',\n",
       " '(1999)',\n",
       " '(2014)',\n",
       " '(1977)',\n",
       " '(1991)',\n",
       " '(1985)',\n",
       " '(2001)',\n",
       " '(1960)',\n",
       " '(2002)',\n",
       " '(1994)',\n",
       " '(2019)',\n",
       " '(1994)',\n",
       " '(2000)',\n",
       " '(1998)',\n",
       " '(1995)',\n",
       " '(2006)',\n",
       " '(2006)',\n",
       " '(1942)',\n",
       " '(2022)',\n",
       " '(2014)',\n",
       " '(2011)',\n",
       " '(1936)',\n",
       " '(1962)',\n",
       " '(1988)',\n",
       " '(1968)',\n",
       " '(1954)',\n",
       " '(1979)',\n",
       " '(1931)',\n",
       " '(1988)',\n",
       " '(2000)',\n",
       " '(1979)',\n",
       " '(1981)',\n",
       " '(2012)',\n",
       " '(2008)',\n",
       " '(2006)',\n",
       " '(1950)',\n",
       " '(1957)',\n",
       " '(1980)',\n",
       " '(1940)',\n",
       " '(1957)',\n",
       " '(2018)',\n",
       " '(1986)',\n",
       " '(1999)',\n",
       " '(1964)',\n",
       " '(2018)',\n",
       " '(2012)',\n",
       " '(2003)',\n",
       " '(2019)',\n",
       " '(1984)',\n",
       " '(1995)',\n",
       " '(1995)',\n",
       " '(2017)',\n",
       " '(1981)',\n",
       " '(2009)',\n",
       " '(1997)',\n",
       " '(2019)',\n",
       " '(1984)',\n",
       " '(1997)',\n",
       " '(2000)',\n",
       " '(2010)',\n",
       " '(2016)',\n",
       " '(1952)',\n",
       " '(2009)',\n",
       " '(1983)',\n",
       " '(1968)',\n",
       " '(2004)',\n",
       " '(1992)',\n",
       " '(1963)',\n",
       " '(2018)',\n",
       " '(1941)',\n",
       " '(1962)',\n",
       " '(2012)',\n",
       " '(1931)',\n",
       " '(1959)',\n",
       " '(1958)',\n",
       " '(2001)',\n",
       " '(1971)',\n",
       " '(1985)',\n",
       " '(1987)',\n",
       " '(1944)',\n",
       " '(1960)',\n",
       " '(1983)',\n",
       " '(1952)',\n",
       " '(1973)',\n",
       " '(1962)',\n",
       " '(1976)',\n",
       " '(1997)',\n",
       " '(2009)',\n",
       " '(1995)',\n",
       " '(2020)',\n",
       " '(1927)',\n",
       " '(2011)',\n",
       " '(2000)',\n",
       " '(1988)',\n",
       " '(2010)',\n",
       " '(1989)',\n",
       " '(1948)',\n",
       " '(2019)',\n",
       " '(2021)',\n",
       " '(2007)',\n",
       " '(2004)',\n",
       " '(1965)',\n",
       " '(2005)',\n",
       " '(2016)',\n",
       " '(1921)',\n",
       " '(1959)',\n",
       " '(2020)',\n",
       " '(1950)',\n",
       " '(2018)',\n",
       " '(2013)',\n",
       " '(1961)',\n",
       " '(2022)',\n",
       " '(1992)',\n",
       " '(1985)',\n",
       " '(1995)',\n",
       " '(2006)',\n",
       " '(2007)',\n",
       " '(1999)',\n",
       " '(2001)',\n",
       " '(1975)',\n",
       " '(1998)',\n",
       " '(1961)',\n",
       " '(1948)',\n",
       " '(2010)',\n",
       " '(1950)',\n",
       " '(1963)',\n",
       " '(1993)',\n",
       " '(2003)',\n",
       " '(2007)',\n",
       " '(2003)',\n",
       " '(1980)',\n",
       " '(1980)',\n",
       " '(1974)',\n",
       " '(1939)',\n",
       " '(2005)',\n",
       " '(1982)',\n",
       " '(2015)',\n",
       " '(1998)',\n",
       " '(1954)',\n",
       " '(2009)',\n",
       " '(1957)',\n",
       " '(2004)',\n",
       " '(2017)',\n",
       " '(1996)',\n",
       " '(2008)',\n",
       " '(2011)',\n",
       " '(1996)',\n",
       " '(1988)',\n",
       " '(2013)',\n",
       " '(2004)',\n",
       " '(1925)',\n",
       " '(1982)',\n",
       " '(2002)',\n",
       " '(1954)',\n",
       " '(1949)',\n",
       " '(1997)',\n",
       " '(1959)',\n",
       " '(2013)',\n",
       " '(1926)',\n",
       " '(1957)',\n",
       " '(2014)',\n",
       " '(1995)',\n",
       " '(2011)',\n",
       " '(1978)',\n",
       " '(1993)',\n",
       " '(2014)',\n",
       " '(1939)',\n",
       " '(1953)',\n",
       " '(1975)',\n",
       " '(1924)',\n",
       " '(2003)',\n",
       " '(2015)',\n",
       " '(2019)',\n",
       " '(2016)',\n",
       " '(1957)',\n",
       " '(2014)',\n",
       " '(1998)',\n",
       " '(2015)',\n",
       " '(2010)',\n",
       " '(2009)',\n",
       " '(2001)',\n",
       " '(1975)',\n",
       " '(1928)',\n",
       " '(2004)',\n",
       " '(1989)',\n",
       " '(1953)',\n",
       " '(1955)',\n",
       " '(1976)',\n",
       " '(1986)',\n",
       " '(2019)',\n",
       " '(1986)',\n",
       " '(1984)',\n",
       " '(2015)',\n",
       " '(2013)',\n",
       " '(2007)',\n",
       " '(1976)',\n",
       " '(1939)',\n",
       " '(2017)',\n",
       " '(1993)',\n",
       " '(2007)',\n",
       " '(2004)',\n",
       " '(1973)',\n",
       " '(1946)',\n",
       " '(2004)',\n",
       " '(1942)',\n",
       " '(1940)',\n",
       " '(1940)',\n",
       " '(1966)',\n",
       " '(2009)',\n",
       " '(1967)',\n",
       " '(2000)',\n",
       " '(2003)',\n",
       " '(1995)',\n",
       " '(1959)',\n",
       " '(1966)',\n",
       " '(2005)',\n",
       " '(1979)',\n",
       " '(1975)',\n",
       " '(1934)',\n",
       " '(1965)',\n",
       " '(2016)',\n",
       " '(2021)',\n",
       " '(1992)',\n",
       " '(1982)',\n",
       " '(2011)',\n",
       " '(1991)']"
      ]
     },
     "execution_count": 38,
     "metadata": {},
     "output_type": "execute_result"
    }
   ],
   "source": [
    "title"
   ]
  },
  {
   "cell_type": "code",
   "execution_count": 44,
   "id": "7ad40bee",
   "metadata": {},
   "outputs": [
    {
     "ename": "AttributeError",
     "evalue": "'NoneType' object has no attribute 'replace'",
     "output_type": "error",
     "traceback": [
      "\u001b[1;31m---------------------------------------------------------------------------\u001b[0m",
      "\u001b[1;31mAttributeError\u001b[0m                            Traceback (most recent call last)",
      "Input \u001b[1;32mIn [44]\u001b[0m, in \u001b[0;36m<cell line: 2>\u001b[1;34m()\u001b[0m\n\u001b[0;32m      1\u001b[0m rat \u001b[38;5;241m=\u001b[39m []\n\u001b[0;32m      2\u001b[0m \u001b[38;5;28;01mfor\u001b[39;00m r \u001b[38;5;129;01min\u001b[39;00m soup\u001b[38;5;241m.\u001b[39mfind_all(\u001b[38;5;124m'\u001b[39m\u001b[38;5;124mtd\u001b[39m\u001b[38;5;124m'\u001b[39m, class_\u001b[38;5;241m=\u001b[39m\u001b[38;5;124m\"\u001b[39m\u001b[38;5;124mratingColumn imdbRating\u001b[39m\u001b[38;5;124m\"\u001b[39m):\n\u001b[1;32m----> 3\u001b[0m     \u001b[43mrat\u001b[49m\u001b[38;5;241;43m.\u001b[39;49m\u001b[43mappend\u001b[49m\u001b[43m(\u001b[49m\u001b[43mr\u001b[49m\u001b[38;5;241;43m.\u001b[39;49m\u001b[43mtext\u001b[49m\u001b[43m)\u001b[49m\u001b[38;5;241;43m.\u001b[39;49m\u001b[43mreplace\u001b[49m(\u001b[38;5;124m'\u001b[39m\u001b[38;5;130;01m\\n\u001b[39;00m\u001b[38;5;124m'\u001b[39m, \u001b[38;5;124m'\u001b[39m\u001b[38;5;124m'\u001b[39m)\n",
      "\u001b[1;31mAttributeError\u001b[0m: 'NoneType' object has no attribute 'replace'"
     ]
    }
   ],
   "source": [
    "rat = []\n",
    "for r in soup.find_all('td', class_=\"ratingColumn imdbRating\"):\n",
    "    rat.append(r.text).replace('\\n', '')\n",
    "    "
   ]
  },
  {
   "cell_type": "code",
   "execution_count": 43,
   "id": "d888ced6",
   "metadata": {},
   "outputs": [
    {
     "data": {
      "text/plain": [
       "'\\n9.2\\n'"
      ]
     },
     "execution_count": 43,
     "metadata": {},
     "output_type": "execute_result"
    }
   ],
   "source": [
    "rat[1]"
   ]
  },
  {
   "cell_type": "code",
   "execution_count": 68,
   "id": "5be0f949",
   "metadata": {},
   "outputs": [
    {
     "ename": "AttributeError",
     "evalue": "'list' object has no attribute 'strip'",
     "output_type": "error",
     "traceback": [
      "\u001b[1;31m---------------------------------------------------------------------------\u001b[0m",
      "\u001b[1;31mAttributeError\u001b[0m                            Traceback (most recent call last)",
      "Input \u001b[1;32mIn [68]\u001b[0m, in \u001b[0;36m<cell line: 2>\u001b[1;34m()\u001b[0m\n\u001b[0;32m      2\u001b[0m \u001b[38;5;28;01mfor\u001b[39;00m n \u001b[38;5;129;01min\u001b[39;00m soup\u001b[38;5;241m.\u001b[39mfind_all(\u001b[38;5;124m'\u001b[39m\u001b[38;5;124mtd\u001b[39m\u001b[38;5;124m'\u001b[39m, class_ \u001b[38;5;241m=\u001b[39m \u001b[38;5;124m\"\u001b[39m\u001b[38;5;124mtitleColumn\u001b[39m\u001b[38;5;124m\"\u001b[39m):\n\u001b[0;32m      3\u001b[0m     name\u001b[38;5;241m.\u001b[39mappend(n\u001b[38;5;241m.\u001b[39mtext)\n\u001b[1;32m----> 4\u001b[0m     name \u001b[38;5;241m=\u001b[39m \u001b[43mname\u001b[49m\u001b[38;5;241;43m.\u001b[39;49m\u001b[43mstrip\u001b[49m(\u001b[38;5;124m\"\u001b[39m\u001b[38;5;124m \u001b[39m\u001b[38;5;124m\"\u001b[39m)\n",
      "\u001b[1;31mAttributeError\u001b[0m: 'list' object has no attribute 'strip'"
     ]
    }
   ],
   "source": [
    "name = []\n",
    "for n in soup.find_all('td', class_ = \"titleColumn\"):\n",
    "    name.append(n.text)\n",
    "    name = name.strip(\" \")"
   ]
  },
  {
   "cell_type": "code",
   "execution_count": 69,
   "id": "6625224b",
   "metadata": {},
   "outputs": [
    {
     "ename": "AttributeError",
     "evalue": "'list' object has no attribute 'replace'",
     "output_type": "error",
     "traceback": [
      "\u001b[1;31m---------------------------------------------------------------------------\u001b[0m",
      "\u001b[1;31mAttributeError\u001b[0m                            Traceback (most recent call last)",
      "Input \u001b[1;32mIn [69]\u001b[0m, in \u001b[0;36m<cell line: 1>\u001b[1;34m()\u001b[0m\n\u001b[1;32m----> 1\u001b[0m moveis_name \u001b[38;5;241m=\u001b[39m \u001b[43mname\u001b[49m\u001b[38;5;241;43m.\u001b[39;49m\u001b[43mreplace\u001b[49m(\u001b[38;5;124m'\u001b[39m\u001b[38;5;130;01m\\n\u001b[39;00m\u001b[38;5;124m'\u001b[39m, \u001b[38;5;124m'\u001b[39m\u001b[38;5;124m'\u001b[39m)\n",
      "\u001b[1;31mAttributeError\u001b[0m: 'list' object has no attribute 'replace'"
     ]
    }
   ],
   "source": [
    "moveis_name = name.replace('\\n', '')"
   ]
  },
  {
   "cell_type": "markdown",
   "id": "777b606a",
   "metadata": {},
   "source": [
    "name"
   ]
  },
  {
   "cell_type": "code",
   "execution_count": 64,
   "id": "be1ad118",
   "metadata": {},
   "outputs": [
    {
     "name": "stdout",
     "output_type": "stream",
     "text": [
      "Enter you want to remove\\n\n"
     ]
    },
    {
     "ename": "ValueError",
     "evalue": "list.remove(x): x not in list",
     "output_type": "error",
     "traceback": [
      "\u001b[1;31m---------------------------------------------------------------------------\u001b[0m",
      "\u001b[1;31mValueError\u001b[0m                                Traceback (most recent call last)",
      "Input \u001b[1;32mIn [64]\u001b[0m, in \u001b[0;36m<cell line: 2>\u001b[1;34m()\u001b[0m\n\u001b[0;32m      1\u001b[0m item \u001b[38;5;241m=\u001b[39m \u001b[38;5;28minput\u001b[39m(\u001b[38;5;124m\"\u001b[39m\u001b[38;5;124mEnter you want to remove\u001b[39m\u001b[38;5;124m\"\u001b[39m)\n\u001b[1;32m----> 2\u001b[0m \u001b[43mname\u001b[49m\u001b[38;5;241;43m.\u001b[39;49m\u001b[43mremove\u001b[49m\u001b[43m(\u001b[49m\u001b[43mitem\u001b[49m\u001b[43m)\u001b[49m\n\u001b[0;32m      3\u001b[0m \u001b[38;5;28mprint\u001b[39m(name)\n",
      "\u001b[1;31mValueError\u001b[0m: list.remove(x): x not in list"
     ]
    }
   ],
   "source": [
    "item = input(\"Enter you want to remove\")\n",
    "name.remove(item)\n",
    "print(name)"
   ]
  },
  {
   "cell_type": "code",
   "execution_count": 74,
   "id": "69f31c00",
   "metadata": {},
   "outputs": [
    {
     "ename": "AttributeError",
     "evalue": "'NoneType' object has no attribute 'replace'",
     "output_type": "error",
     "traceback": [
      "\u001b[1;31m---------------------------------------------------------------------------\u001b[0m",
      "\u001b[1;31mAttributeError\u001b[0m                            Traceback (most recent call last)",
      "Input \u001b[1;32mIn [74]\u001b[0m, in \u001b[0;36m<cell line: 2>\u001b[1;34m()\u001b[0m\n\u001b[0;32m      1\u001b[0m rate \u001b[38;5;241m=\u001b[39m []\n\u001b[0;32m      2\u001b[0m \u001b[38;5;28;01mfor\u001b[39;00m e \u001b[38;5;129;01min\u001b[39;00m soup\u001b[38;5;241m.\u001b[39mfind_all(\u001b[38;5;124m'\u001b[39m\u001b[38;5;124mtd\u001b[39m\u001b[38;5;124m'\u001b[39m, class_\u001b[38;5;241m=\u001b[39m\u001b[38;5;124m\"\u001b[39m\u001b[38;5;124mratingColumn imdbRating\u001b[39m\u001b[38;5;124m\"\u001b[39m):\n\u001b[1;32m----> 3\u001b[0m     \u001b[43mrate\u001b[49m\u001b[38;5;241;43m.\u001b[39;49m\u001b[43mappend\u001b[49m\u001b[43m(\u001b[49m\u001b[43me\u001b[49m\u001b[38;5;241;43m.\u001b[39;49m\u001b[43mtext\u001b[49m\u001b[43m)\u001b[49m\u001b[38;5;241;43m.\u001b[39;49m\u001b[43mreplace\u001b[49m(\u001b[38;5;124m'\u001b[39m\u001b[38;5;130;01m\\n\u001b[39;00m\u001b[38;5;124m'\u001b[39m, \u001b[38;5;124m\"\u001b[39m\u001b[38;5;124m\"\u001b[39m)\n",
      "\u001b[1;31mAttributeError\u001b[0m: 'NoneType' object has no attribute 'replace'"
     ]
    }
   ],
   "source": [
    "rate = []\n",
    "for e in soup.find_all('td', class_=\"ratingColumn imdbRating\"):\n",
    "    rate.append(e.text).replace('\\n', \"\")"
   ]
  },
  {
   "cell_type": "code",
   "execution_count": 71,
   "id": "4bb9b837",
   "metadata": {},
   "outputs": [
    {
     "data": {
      "text/plain": [
       "['\\n9.2\\n',\n",
       " '\\n9.2\\n',\n",
       " '\\n9.0\\n',\n",
       " '\\n9.0\\n',\n",
       " '\\n8.9\\n',\n",
       " '\\n8.9\\n',\n",
       " '\\n8.9\\n',\n",
       " '\\n8.9\\n',\n",
       " '\\n8.8\\n',\n",
       " '\\n8.8\\n',\n",
       " '\\n8.8\\n',\n",
       " '\\n8.7\\n',\n",
       " '\\n8.7\\n',\n",
       " '\\n8.7\\n',\n",
       " '\\n8.7\\n',\n",
       " '\\n8.7\\n',\n",
       " '\\n8.7\\n',\n",
       " '\\n8.6\\n',\n",
       " '\\n8.6\\n',\n",
       " '\\n8.6\\n',\n",
       " '\\n8.6\\n',\n",
       " '\\n8.6\\n',\n",
       " '\\n8.6\\n',\n",
       " '\\n8.6\\n',\n",
       " '\\n8.6\\n',\n",
       " '\\n8.6\\n',\n",
       " '\\n8.6\\n',\n",
       " '\\n8.6\\n',\n",
       " '\\n8.5\\n',\n",
       " '\\n8.5\\n',\n",
       " '\\n8.5\\n',\n",
       " '\\n8.5\\n',\n",
       " '\\n8.5\\n',\n",
       " '\\n8.5\\n',\n",
       " '\\n8.5\\n',\n",
       " '\\n8.5\\n',\n",
       " '\\n8.5\\n',\n",
       " '\\n8.5\\n',\n",
       " '\\n8.5\\n',\n",
       " '\\n8.5\\n',\n",
       " '\\n8.5\\n',\n",
       " '\\n8.5\\n',\n",
       " '\\n8.5\\n',\n",
       " '\\n8.5\\n',\n",
       " '\\n8.5\\n',\n",
       " '\\n8.4\\n',\n",
       " '\\n8.4\\n',\n",
       " '\\n8.4\\n',\n",
       " '\\n8.4\\n',\n",
       " '\\n8.4\\n',\n",
       " '\\n8.4\\n',\n",
       " '\\n8.4\\n',\n",
       " '\\n8.4\\n',\n",
       " '\\n8.4\\n',\n",
       " '\\n8.4\\n',\n",
       " '\\n8.4\\n',\n",
       " '\\n8.4\\n',\n",
       " '\\n8.4\\n',\n",
       " '\\n8.4\\n',\n",
       " '\\n8.4\\n',\n",
       " '\\n8.4\\n',\n",
       " '\\n8.4\\n',\n",
       " '\\n8.4\\n',\n",
       " '\\n8.4\\n',\n",
       " '\\n8.4\\n',\n",
       " '\\n8.3\\n',\n",
       " '\\n8.3\\n',\n",
       " '\\n8.3\\n',\n",
       " '\\n8.3\\n',\n",
       " '\\n8.3\\n',\n",
       " '\\n8.3\\n',\n",
       " '\\n8.3\\n',\n",
       " '\\n8.3\\n',\n",
       " '\\n8.3\\n',\n",
       " '\\n8.3\\n',\n",
       " '\\n8.3\\n',\n",
       " '\\n8.3\\n',\n",
       " '\\n8.3\\n',\n",
       " '\\n8.3\\n',\n",
       " '\\n8.3\\n',\n",
       " '\\n8.3\\n',\n",
       " '\\n8.3\\n',\n",
       " '\\n8.3\\n',\n",
       " '\\n8.3\\n',\n",
       " '\\n8.3\\n',\n",
       " '\\n8.3\\n',\n",
       " '\\n8.3\\n',\n",
       " '\\n8.3\\n',\n",
       " '\\n8.3\\n',\n",
       " '\\n8.3\\n',\n",
       " '\\n8.3\\n',\n",
       " '\\n8.3\\n',\n",
       " '\\n8.3\\n',\n",
       " '\\n8.3\\n',\n",
       " '\\n8.3\\n',\n",
       " '\\n8.3\\n',\n",
       " '\\n8.3\\n',\n",
       " '\\n8.3\\n',\n",
       " '\\n8.2\\n',\n",
       " '\\n8.2\\n',\n",
       " '\\n8.2\\n',\n",
       " '\\n8.2\\n',\n",
       " '\\n8.2\\n',\n",
       " '\\n8.2\\n',\n",
       " '\\n8.2\\n',\n",
       " '\\n8.2\\n',\n",
       " '\\n8.2\\n',\n",
       " '\\n8.2\\n',\n",
       " '\\n8.2\\n',\n",
       " '\\n8.2\\n',\n",
       " '\\n8.2\\n',\n",
       " '\\n8.2\\n',\n",
       " '\\n8.2\\n',\n",
       " '\\n8.2\\n',\n",
       " '\\n8.2\\n',\n",
       " '\\n8.2\\n',\n",
       " '\\n8.2\\n',\n",
       " '\\n8.2\\n',\n",
       " '\\n8.2\\n',\n",
       " '\\n8.2\\n',\n",
       " '\\n8.2\\n',\n",
       " '\\n8.2\\n',\n",
       " '\\n8.2\\n',\n",
       " '\\n8.2\\n',\n",
       " '\\n8.2\\n',\n",
       " '\\n8.2\\n',\n",
       " '\\n8.2\\n',\n",
       " '\\n8.2\\n',\n",
       " '\\n8.2\\n',\n",
       " '\\n8.2\\n',\n",
       " '\\n8.2\\n',\n",
       " '\\n8.2\\n',\n",
       " '\\n8.2\\n',\n",
       " '\\n8.2\\n',\n",
       " '\\n8.2\\n',\n",
       " '\\n8.2\\n',\n",
       " '\\n8.2\\n',\n",
       " '\\n8.2\\n',\n",
       " '\\n8.2\\n',\n",
       " '\\n8.2\\n',\n",
       " '\\n8.2\\n',\n",
       " '\\n8.2\\n',\n",
       " '\\n8.2\\n',\n",
       " '\\n8.2\\n',\n",
       " '\\n8.2\\n',\n",
       " '\\n8.1\\n',\n",
       " '\\n8.1\\n',\n",
       " '\\n8.1\\n',\n",
       " '\\n8.1\\n',\n",
       " '\\n8.1\\n',\n",
       " '\\n8.1\\n',\n",
       " '\\n8.1\\n',\n",
       " '\\n8.1\\n',\n",
       " '\\n8.1\\n',\n",
       " '\\n8.1\\n',\n",
       " '\\n8.1\\n',\n",
       " '\\n8.1\\n',\n",
       " '\\n8.1\\n',\n",
       " '\\n8.1\\n',\n",
       " '\\n8.1\\n',\n",
       " '\\n8.1\\n',\n",
       " '\\n8.1\\n',\n",
       " '\\n8.1\\n',\n",
       " '\\n8.1\\n',\n",
       " '\\n8.1\\n',\n",
       " '\\n8.1\\n',\n",
       " '\\n8.1\\n',\n",
       " '\\n8.1\\n',\n",
       " '\\n8.1\\n',\n",
       " '\\n8.1\\n',\n",
       " '\\n8.1\\n',\n",
       " '\\n8.1\\n',\n",
       " '\\n8.1\\n',\n",
       " '\\n8.1\\n',\n",
       " '\\n8.1\\n',\n",
       " '\\n8.1\\n',\n",
       " '\\n8.1\\n',\n",
       " '\\n8.1\\n',\n",
       " '\\n8.1\\n',\n",
       " '\\n8.1\\n',\n",
       " '\\n8.1\\n',\n",
       " '\\n8.1\\n',\n",
       " '\\n8.1\\n',\n",
       " '\\n8.1\\n',\n",
       " '\\n8.1\\n',\n",
       " '\\n8.1\\n',\n",
       " '\\n8.1\\n',\n",
       " '\\n8.1\\n',\n",
       " '\\n8.1\\n',\n",
       " '\\n8.1\\n',\n",
       " '\\n8.1\\n',\n",
       " '\\n8.1\\n',\n",
       " '\\n8.1\\n',\n",
       " '\\n8.1\\n',\n",
       " '\\n8.1\\n',\n",
       " '\\n8.1\\n',\n",
       " '\\n8.1\\n',\n",
       " '\\n8.1\\n',\n",
       " '\\n8.1\\n',\n",
       " '\\n8.1\\n',\n",
       " '\\n8.1\\n',\n",
       " '\\n8.1\\n',\n",
       " '\\n8.1\\n',\n",
       " '\\n8.1\\n',\n",
       " '\\n8.1\\n',\n",
       " '\\n8.1\\n',\n",
       " '\\n8.1\\n',\n",
       " '\\n8.1\\n',\n",
       " '\\n8.1\\n',\n",
       " '\\n8.1\\n',\n",
       " '\\n8.1\\n',\n",
       " '\\n8.0\\n',\n",
       " '\\n8.0\\n',\n",
       " '\\n8.0\\n',\n",
       " '\\n8.0\\n',\n",
       " '\\n8.0\\n',\n",
       " '\\n8.0\\n',\n",
       " '\\n8.0\\n',\n",
       " '\\n8.0\\n',\n",
       " '\\n8.0\\n',\n",
       " '\\n8.0\\n',\n",
       " '\\n8.0\\n',\n",
       " '\\n8.0\\n',\n",
       " '\\n8.0\\n',\n",
       " '\\n8.0\\n',\n",
       " '\\n8.0\\n',\n",
       " '\\n8.0\\n',\n",
       " '\\n8.0\\n',\n",
       " '\\n8.0\\n',\n",
       " '\\n8.0\\n',\n",
       " '\\n8.0\\n',\n",
       " '\\n8.0\\n',\n",
       " '\\n8.0\\n',\n",
       " '\\n8.0\\n',\n",
       " '\\n8.0\\n',\n",
       " '\\n8.0\\n',\n",
       " '\\n8.0\\n',\n",
       " '\\n8.0\\n',\n",
       " '\\n8.0\\n',\n",
       " '\\n8.0\\n',\n",
       " '\\n8.0\\n',\n",
       " '\\n8.0\\n',\n",
       " '\\n8.0\\n',\n",
       " '\\n8.0\\n',\n",
       " '\\n8.0\\n',\n",
       " '\\n8.0\\n',\n",
       " '\\n8.0\\n',\n",
       " '\\n8.0\\n',\n",
       " '\\n8.0\\n',\n",
       " '\\n8.0\\n']"
      ]
     },
     "execution_count": 71,
     "metadata": {},
     "output_type": "execute_result"
    }
   ],
   "source": [
    "rate"
   ]
  },
  {
   "cell_type": "code",
   "execution_count": 73,
   "id": "bf97f58f",
   "metadata": {},
   "outputs": [
    {
     "ename": "AttributeError",
     "evalue": "'list' object has no attribute 'replace'",
     "output_type": "error",
     "traceback": [
      "\u001b[1;31m---------------------------------------------------------------------------\u001b[0m",
      "\u001b[1;31mAttributeError\u001b[0m                            Traceback (most recent call last)",
      "Input \u001b[1;32mIn [73]\u001b[0m, in \u001b[0;36m<cell line: 1>\u001b[1;34m()\u001b[0m\n\u001b[1;32m----> 1\u001b[0m \u001b[43mrate\u001b[49m\u001b[38;5;241;43m.\u001b[39;49m\u001b[43mreplace\u001b[49m(\u001b[38;5;124m'\u001b[39m\u001b[38;5;130;01m\\n\u001b[39;00m\u001b[38;5;124m'\u001b[39m, \u001b[38;5;124m\"\u001b[39m\u001b[38;5;124m\"\u001b[39m)\n",
      "\u001b[1;31mAttributeError\u001b[0m: 'list' object has no attribute 'replace'"
     ]
    }
   ],
   "source": [
    "rate.replace('\\n', \"\")"
   ]
  },
  {
   "cell_type": "code",
   "execution_count": null,
   "id": "4c881ddb",
   "metadata": {},
   "outputs": [],
   "source": []
  }
 ],
 "metadata": {
  "kernelspec": {
   "display_name": "Python 3 (ipykernel)",
   "language": "python",
   "name": "python3"
  },
  "language_info": {
   "codemirror_mode": {
    "name": "ipython",
    "version": 3
   },
   "file_extension": ".py",
   "mimetype": "text/x-python",
   "name": "python",
   "nbconvert_exporter": "python",
   "pygments_lexer": "ipython3",
   "version": "3.9.12"
  }
 },
 "nbformat": 4,
 "nbformat_minor": 5
}
