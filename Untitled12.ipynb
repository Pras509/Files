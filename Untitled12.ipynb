{
 "cells": [
  {
   "cell_type": "code",
   "execution_count": 2,
   "id": "6e8daeed",
   "metadata": {},
   "outputs": [],
   "source": [
    "from bs4 import BeautifulSoup\n",
    "import requests\n"
   ]
  },
  {
   "cell_type": "code",
   "execution_count": 4,
   "id": "aa547cf3",
   "metadata": {},
   "outputs": [],
   "source": [
    "page = requests.get('https://www.icc-cricket.com/rankings/mens/player-rankings/odi')"
   ]
  },
  {
   "cell_type": "code",
   "execution_count": 5,
   "id": "bf636b26",
   "metadata": {},
   "outputs": [],
   "source": [
    "soup = BeautifulSoup(page.content, \"html.parser\")"
   ]
  },
  {
   "cell_type": "code",
   "execution_count": 13,
   "id": "48ec6e32",
   "metadata": {},
   "outputs": [
    {
     "data": {
      "text/plain": [
       "'Babar Azam'"
      ]
     },
     "execution_count": 13,
     "metadata": {},
     "output_type": "execute_result"
    }
   ],
   "source": [
    "player_info = []\n",
    "for i in soup.find_all('div', class_= \"rankings-block__banner--name\"):\n",
    "    player_info.append(i.text)\n",
    "player_info\n",
    "first_player = player_info[0]\n",
    "first_player"
   ]
  },
  {
   "cell_type": "code",
   "execution_count": 24,
   "id": "ecf9eb27",
   "metadata": {},
   "outputs": [
    {
     "data": {
      "text/plain": [
       "['\\nImam-ul-Haq\\n',\n",
       " '\\nVirat Kohli\\n',\n",
       " '\\nRohit Sharma\\n',\n",
       " '\\nQuinton de Kock\\n',\n",
       " '\\nRoss Taylor\\n',\n",
       " '\\nRassie van der Dussen\\n',\n",
       " '\\nJonny Bairstow\\n',\n",
       " '\\nDavid Warner\\n',\n",
       " '\\nAaron Finch\\n']"
      ]
     },
     "execution_count": 24,
     "metadata": {},
     "output_type": "execute_result"
    }
   ],
   "source": [
    "rest_player = []\n",
    "for y in soup.find_all('td', class_ = \"table-body__cell name\"):\n",
    "    rest_player.append(y.text)\n",
    "rest_player\n",
    "rest_players = rest_player[0:9]\n",
    "rest_players"
   ]
  },
  {
   "cell_type": "code",
   "execution_count": 25,
   "id": "a589ce54",
   "metadata": {},
   "outputs": [
    {
     "data": {
      "text/plain": [
       "['\\nImam-ul-Haq\\n',\n",
       " '\\nVirat Kohli\\n',\n",
       " '\\nRohit Sharma\\n',\n",
       " '\\nQuinton de Kock\\n',\n",
       " '\\nRoss Taylor\\n',\n",
       " '\\nRassie van der Dussen\\n',\n",
       " '\\nJonny Bairstow\\n',\n",
       " '\\nDavid Warner\\n',\n",
       " '\\nAaron Finch\\n']"
      ]
     },
     "execution_count": 25,
     "metadata": {},
     "output_type": "execute_result"
    }
   ],
   "source": [
    "a = rest_players\n",
    "a."
   ]
  },
  {
   "cell_type": "code",
   "execution_count": 22,
   "id": "8d6dc422",
   "metadata": {},
   "outputs": [
    {
     "name": "stdout",
     "output_type": "stream",
     "text": [
      "None\n"
     ]
    }
   ],
   "source": [
    "print(all_player)"
   ]
  },
  {
   "cell_type": "code",
   "execution_count": 26,
   "id": "4bc0d512",
   "metadata": {},
   "outputs": [
    {
     "data": {
      "text/plain": [
       "['PAK',\n",
       " 'IND',\n",
       " 'IND',\n",
       " 'SA',\n",
       " 'NZ',\n",
       " 'SA',\n",
       " 'ENG',\n",
       " 'AUS',\n",
       " 'AUS',\n",
       " 'ENG',\n",
       " 'NZ',\n",
       " 'PAK',\n",
       " 'IND',\n",
       " 'AFG',\n",
       " 'AUS',\n",
       " 'BAN',\n",
       " 'AFG',\n",
       " 'BAN',\n",
       " 'AFG',\n",
       " 'AFG',\n",
       " 'ENG',\n",
       " 'NZ',\n",
       " 'NZ',\n",
       " 'ENG',\n",
       " 'OMA',\n",
       " 'PAK',\n",
       " 'BAN',\n",
       " 'PAK',\n",
       " 'IND',\n",
       " 'IND',\n",
       " 'SA',\n",
       " 'NZ',\n",
       " 'SA',\n",
       " 'ENG',\n",
       " 'AUS',\n",
       " 'AUS',\n",
       " 'ENG',\n",
       " 'NZ',\n",
       " 'PAK',\n",
       " 'IND',\n",
       " 'AFG',\n",
       " 'AUS',\n",
       " 'BAN',\n",
       " 'AFG',\n",
       " 'BAN',\n",
       " 'AFG',\n",
       " 'AFG',\n",
       " 'ENG',\n",
       " 'NZ',\n",
       " 'NZ',\n",
       " 'ENG',\n",
       " 'OMA',\n",
       " 'PAK',\n",
       " 'BAN']"
      ]
     },
     "execution_count": 26,
     "metadata": {},
     "output_type": "execute_result"
    }
   ],
   "source": [
    "team= []\n",
    "for ta in soup.find_all('span', class_ = \"table-body__logo-text\"):\n",
    "        team.append(ta.text)\n",
    "team"
   ]
  },
  {
   "cell_type": "code",
   "execution_count": 28,
   "id": "93a3c7ab",
   "metadata": {},
   "outputs": [
    {
     "data": {
      "text/plain": [
       "['PAK', 'IND', 'IND', 'SA', 'NZ', 'SA', 'ENG', 'AUS', 'AUS']"
      ]
     },
     "execution_count": 28,
     "metadata": {},
     "output_type": "execute_result"
    }
   ],
   "source": [
    "teams = team[0:9]\n",
    "teams"
   ]
  },
  {
   "cell_type": "code",
   "execution_count": 29,
   "id": "5a7e8038",
   "metadata": {},
   "outputs": [
    {
     "data": {
      "text/plain": [
       "['815', '811', '791', '789', '775', '769', '760', '745', '727']"
      ]
     },
     "execution_count": 29,
     "metadata": {},
     "output_type": "execute_result"
    }
   ],
   "source": [
    "ratings= []\n",
    "for rating in soup.find_all('td', class_ = \"table-body__cell u-text-right rating\"):\n",
    "        ratings.append(rating.text)\n",
    "ratings\n",
    "rate = ratings[0:9]\n",
    "rate"
   ]
  },
  {
   "cell_type": "code",
   "execution_count": 32,
   "id": "43458a48",
   "metadata": {},
   "outputs": [
    {
     "ename": "TypeError",
     "evalue": "'list' object cannot be interpreted as an integer",
     "output_type": "error",
     "traceback": [
      "\u001b[1;31m---------------------------------------------------------------------------\u001b[0m",
      "\u001b[1;31mTypeError\u001b[0m                                 Traceback (most recent call last)",
      "Input \u001b[1;32mIn [32]\u001b[0m, in \u001b[0;36m<cell line: 1>\u001b[1;34m()\u001b[0m\n\u001b[1;32m----> 1\u001b[0m rate \u001b[38;5;241m=\u001b[39m \u001b[43mrate\u001b[49m\u001b[38;5;241;43m.\u001b[39;49m\u001b[43minsert\u001b[49m\u001b[43m(\u001b[49m\u001b[43m[\u001b[49m\u001b[38;5;241;43m0\u001b[39;49m\u001b[43m]\u001b[49m\u001b[43m,\u001b[49m\u001b[43m \u001b[49m\u001b[38;5;124;43m'\u001b[39;49m\u001b[38;5;124;43m510\u001b[39;49m\u001b[38;5;124;43m'\u001b[39;49m\u001b[43m)\u001b[49m\n",
      "\u001b[1;31mTypeError\u001b[0m: 'list' object cannot be interpreted as an integer"
     ]
    }
   ],
   "source": [
    "rate = rate.insert()"
   ]
  },
  {
   "cell_type": "code",
   "execution_count": 35,
   "id": "03b2df8e",
   "metadata": {},
   "outputs": [],
   "source": [
    "rest_player = []\n",
    "for y in soup.find_all('td', class_ = \"table-body__cell name\"):\n",
    "    rest_player.append(y.text)\n",
    "rest_player\n",
    "rest_players = rest_player[0:9]\n",
    "rest_bowlers = rest_player[9:18]"
   ]
  },
  {
   "cell_type": "code",
   "execution_count": 36,
   "id": "430f31bc",
   "metadata": {},
   "outputs": [
    {
     "data": {
      "text/plain": [
       "['\\nChris Woakes\\n',\n",
       " '\\nMatt Henry\\n',\n",
       " '\\nShaheen Afridi\\n',\n",
       " '\\nJasprit Bumrah\\n',\n",
       " '\\nMujeeb Ur Rahman\\n',\n",
       " '\\nJosh Hazlewood\\n',\n",
       " '\\nMehedi Hasan\\n',\n",
       " '\\nMohammad Nabi\\n',\n",
       " '\\nShakib Al Hasan\\n']"
      ]
     },
     "execution_count": 36,
     "metadata": {},
     "output_type": "execute_result"
    }
   ],
   "source": [
    "rest_bowlers"
   ]
  },
  {
   "cell_type": "code",
   "execution_count": 37,
   "id": "2e9a917c",
   "metadata": {},
   "outputs": [
    {
     "data": {
      "text/plain": [
       "['\\nImam-ul-Haq\\n',\n",
       " '\\nVirat Kohli\\n',\n",
       " '\\nRohit Sharma\\n',\n",
       " '\\nQuinton de Kock\\n',\n",
       " '\\nRoss Taylor\\n',\n",
       " '\\nRassie van der Dussen\\n',\n",
       " '\\nJonny Bairstow\\n',\n",
       " '\\nDavid Warner\\n',\n",
       " '\\nAaron Finch\\n']"
      ]
     },
     "execution_count": 37,
     "metadata": {},
     "output_type": "execute_result"
    }
   ],
   "source": [
    "rest_players"
   ]
  },
  {
   "cell_type": "code",
   "execution_count": 38,
   "id": "8f094294",
   "metadata": {},
   "outputs": [],
   "source": [
    "page = requests.get('https://www.cnbc.com/world/?region=world')"
   ]
  },
  {
   "cell_type": "code",
   "execution_count": 39,
   "id": "61f05104",
   "metadata": {},
   "outputs": [],
   "source": [
    "soup = BeautifulSoup(page.content, \"html.parser\")"
   ]
  },
  {
   "cell_type": "code",
   "execution_count": 40,
   "id": "10c0c924",
   "metadata": {},
   "outputs": [
    {
     "data": {
      "text/plain": [
       "<Response [200]>"
      ]
     },
     "execution_count": 40,
     "metadata": {},
     "output_type": "execute_result"
    }
   ],
   "source": [
    "page"
   ]
  },
  {
   "cell_type": "code",
   "execution_count": null,
   "id": "ef5bafb3",
   "metadata": {},
   "outputs": [],
   "source": []
  }
 ],
 "metadata": {
  "kernelspec": {
   "display_name": "Python 3 (ipykernel)",
   "language": "python",
   "name": "python3"
  },
  "language_info": {
   "codemirror_mode": {
    "name": "ipython",
    "version": 3
   },
   "file_extension": ".py",
   "mimetype": "text/x-python",
   "name": "python",
   "nbconvert_exporter": "python",
   "pygments_lexer": "ipython3",
   "version": "3.9.12"
  }
 },
 "nbformat": 4,
 "nbformat_minor": 5
}
