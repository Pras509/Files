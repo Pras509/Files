{
 "cells": [
  {
   "cell_type": "code",
   "execution_count": 1,
   "id": "18e7fc16",
   "metadata": {},
   "outputs": [],
   "source": [
    "from bs4 import BeautifulSoup\n",
    "import requests"
   ]
  },
  {
   "cell_type": "code",
   "execution_count": 65,
   "id": "32ecb2ef",
   "metadata": {},
   "outputs": [],
   "source": [
    "page = requests.get('https://www.icc-cricket.com/rankings/womens/player-rankings/odi/all-rounder')"
   ]
  },
  {
   "cell_type": "code",
   "execution_count": 66,
   "id": "ca4a4e8e",
   "metadata": {},
   "outputs": [],
   "source": [
    "soup = BeautifulSoup(page.content, \"html.parser\")"
   ]
  },
  {
   "cell_type": "code",
   "execution_count": 20,
   "id": "25a439ee",
   "metadata": {},
   "outputs": [
    {
     "data": {
      "text/plain": [
       "['Natalie Sciver']"
      ]
     },
     "execution_count": 20,
     "metadata": {},
     "output_type": "execute_result"
    }
   ],
   "source": [
    "player = []\n",
    "for p in soup.find_all('div', class_ = \"rankings-block__banner--name-large\"):\n",
    "    player.append(p.text)\n",
    "player1 = player\n",
    "player1"
   ]
  },
  {
   "cell_type": "code",
   "execution_count": 64,
   "id": "cf5bbda2",
   "metadata": {},
   "outputs": [
    {
     "data": {
      "text/plain": [
       "[]"
      ]
     },
     "execution_count": 64,
     "metadata": {},
     "output_type": "execute_result"
    }
   ],
   "source": [
    "player9 = []\n",
    "for p9 in soup.find_all('td', class_ = \"table-body__cell rankings-table__name name\"):\n",
    "    player9.apppend(p9.text)\n",
    "player9\n",
    "    \n",
    "\n"
   ]
  },
  {
   "cell_type": "code",
   "execution_count": 16,
   "id": "b9bcacca",
   "metadata": {},
   "outputs": [],
   "source": [
    "rating = []\n",
    "for r in soup.find_all('td', class_ = \"table-body__cell rating\"):\n",
    "    rating.append(r.text)"
   ]
  },
  {
   "cell_type": "code",
   "execution_count": 17,
   "id": "f980ff43",
   "metadata": {},
   "outputs": [
    {
     "data": {
      "text/plain": [
       "['374',\n",
       " '338',\n",
       " '338',\n",
       " '335',\n",
       " '269',\n",
       " '249',\n",
       " '245',\n",
       " '223',\n",
       " '221',\n",
       " '217',\n",
       " '206',\n",
       " '205',\n",
       " '202',\n",
       " '198',\n",
       " '169',\n",
       " '167',\n",
       " '159',\n",
       " '156',\n",
       " '149']"
      ]
     },
     "execution_count": 17,
     "metadata": {},
     "output_type": "execute_result"
    }
   ],
   "source": [
    "rating"
   ]
  },
  {
   "cell_type": "code",
   "execution_count": 48,
   "id": "6e2394f4",
   "metadata": {},
   "outputs": [],
   "source": []
  },
  {
   "cell_type": "code",
   "execution_count": 47,
   "id": "eae05d46",
   "metadata": {},
   "outputs": [],
   "source": [
    "team = []\n",
    "for t in soup.find_all('span', class_ = \"table-body__logo-text\"):\n",
    "    team.append(t.text)"
   ]
  },
  {
   "cell_type": "code",
   "execution_count": 43,
   "id": "8fff4395",
   "metadata": {},
   "outputs": [
    {
     "data": {
      "text/plain": [
       "['AUS',\n",
       " 'WI',\n",
       " 'SA',\n",
       " 'NZ',\n",
       " 'AUS',\n",
       " 'IND',\n",
       " 'AUS',\n",
       " 'SA',\n",
       " 'ENG',\n",
       " 'IND',\n",
       " 'ENG',\n",
       " 'WI',\n",
       " 'NZ',\n",
       " 'PAK',\n",
       " 'BAN',\n",
       " 'BAN',\n",
       " 'SA',\n",
       " 'ENG',\n",
       " 'AUS']"
      ]
     },
     "execution_count": 43,
     "metadata": {},
     "output_type": "execute_result"
    }
   ],
   "source": [
    "team"
   ]
  },
  {
   "cell_type": "code",
   "execution_count": 49,
   "id": "477511da",
   "metadata": {},
   "outputs": [],
   "source": [
    "page = requests.get('https://www.icc-cricket.com/rankings/womens/player-rankings/odi/batting')\n",
    "soup = BeautifulSoup(page.content, \"html.parser\")"
   ]
  },
  {
   "cell_type": "code",
   "execution_count": 50,
   "id": "07e57dca",
   "metadata": {},
   "outputs": [
    {
     "data": {
      "text/plain": [
       "['\\nNatalie Sciver\\n',\n",
       " '\\nBeth Mooney\\n',\n",
       " '\\nLaura Wolvaardt\\n',\n",
       " '\\nMeg Lanning\\n',\n",
       " '\\nRachael Haynes\\n',\n",
       " '\\nAmy Satterthwaite\\n',\n",
       " '\\nSmriti Mandhana\\n',\n",
       " '\\nTammy Beaumont\\n',\n",
       " '\\nEllyse Perry\\n',\n",
       " '\\nDeandra Dottin\\n',\n",
       " '\\nStafanie Taylor\\n',\n",
       " '\\nHarmanpreet Kaur\\n',\n",
       " '\\nHeather Knight\\n',\n",
       " '\\nAmelia Kerr\\n',\n",
       " '\\nSophie Devine\\n',\n",
       " '\\nLizelle Lee\\n',\n",
       " '\\nSuzie Bates\\n',\n",
       " '\\nMignon du Preez\\n',\n",
       " '\\nHayley Matthews\\n',\n",
       " '\\nSune Luus\\n',\n",
       " '\\nMarizanne Kapp\\n',\n",
       " '\\nChamari Athapaththu\\n',\n",
       " '\\nAshleigh Gardner\\n',\n",
       " '\\nBismah Maroof\\n',\n",
       " '\\nDanielle Wyatt\\n',\n",
       " '\\nAmy Jones\\n',\n",
       " '\\nMaddie Green\\n',\n",
       " '\\nDeepti Sharma\\n',\n",
       " '\\nAliya Riaz\\n',\n",
       " '\\nFargana Hoque\\n',\n",
       " '\\nTahlia McGrath\\n',\n",
       " '\\nChloe-Lesleigh Tryon\\n',\n",
       " '\\nSidra Ameen\\n',\n",
       " '\\nSophia Dunkley\\n',\n",
       " '\\nPoonam Raut\\n',\n",
       " '\\nNahida Khan\\n',\n",
       " '\\nKatey Martin\\n',\n",
       " '\\nHarshitha Madavi\\n',\n",
       " '\\nNida Dar\\n',\n",
       " '\\nYastika Bhatia\\n',\n",
       " '\\nGaby Lewis\\n',\n",
       " '\\nLara Goodall\\n',\n",
       " '\\nUmaima Sohail\\n',\n",
       " '\\nRumana Ahmed\\n',\n",
       " '\\nLaura Delany\\n',\n",
       " '\\nJaveria Khan\\n',\n",
       " '\\nShafali Verma\\n',\n",
       " '\\nShemaine Campbelle\\n',\n",
       " '\\nKatherine Brunt\\n',\n",
       " '\\nDane van Niekerk\\n',\n",
       " '\\nBrooke Halliday\\n',\n",
       " '\\nRicha Ghosh\\n',\n",
       " '\\nMuneeba Ali\\n',\n",
       " '\\nJess Jonassen\\n',\n",
       " '\\nTrisha Chetty\\n',\n",
       " '\\nLauren Winfield\\n',\n",
       " '\\nSharmin Supta\\n',\n",
       " '\\nJhulan Goswami\\n',\n",
       " '\\nNigar Sultana\\n',\n",
       " '\\nSalma Khatun\\n',\n",
       " '\\nChedean Nation\\n',\n",
       " '\\nPrasadani Weerakkody\\n',\n",
       " '\\nPooja Vastrakar\\n',\n",
       " '\\nKavisha Dilhari\\n',\n",
       " '\\nLata Mondal\\n',\n",
       " '\\nLauren Down\\n',\n",
       " '\\nAndrie Steyn\\n',\n",
       " '\\nKatie Perkins\\n',\n",
       " '\\nNicola Carey\\n',\n",
       " '\\nSophie Ecclestone\\n',\n",
       " '\\nNilakshi Silva\\n',\n",
       " '\\nKycia Knight\\n',\n",
       " '\\nMary Waldron\\n',\n",
       " '\\nMurshida Khatun\\n',\n",
       " '\\nShamima Sultana\\n',\n",
       " '\\nAnnabel Sutherland\\n',\n",
       " '\\nMary-Anne Musonda\\n',\n",
       " '\\nShikha Pandey\\n',\n",
       " '\\nJess Kerr\\n',\n",
       " '\\nLeah Paul\\n',\n",
       " '\\nKate Cross\\n',\n",
       " '\\nTazmin Brits\\n',\n",
       " '\\nRitu Moni\\n',\n",
       " '\\nJemimah Rodriques\\n',\n",
       " '\\nKyshona Knight\\n',\n",
       " '\\nAmy Hunter\\n',\n",
       " '\\nJosephine Nkomo\\n',\n",
       " '\\nSabbhineni Meghana\\n',\n",
       " '\\nGeorgina Dempsey\\n',\n",
       " '\\nSneh Rana\\n',\n",
       " '\\nLea Tahuhu\\n',\n",
       " '\\nPriya Punia\\n',\n",
       " '\\nHayley Jensen\\n',\n",
       " '\\nSophie MacMahon\\n',\n",
       " '\\nEimear Richardson\\n',\n",
       " '\\nRajeshwari Gayakwad\\n',\n",
       " '\\nAnushka Sanjeewani\\n',\n",
       " '\\nHasini Perera\\n',\n",
       " '\\nInoka Ranaweera\\n']"
      ]
     },
     "execution_count": 50,
     "metadata": {},
     "output_type": "execute_result"
    }
   ],
   "source": [
    "wodibat_name = []\n",
    "for w in soup.find_all('td', class_ = \"table-body__cell rankings-table__name name\"):\n",
    "    wodibat_name.append(w.text)\n",
    "wodibat_name"
   ]
  },
  {
   "cell_type": "code",
   "execution_count": 52,
   "id": "6eac0957",
   "metadata": {},
   "outputs": [
    {
     "data": {
      "text/plain": [
       "['ENG',\n",
       " 'AUS',\n",
       " 'SA',\n",
       " 'AUS',\n",
       " 'AUS',\n",
       " 'NZ',\n",
       " 'IND',\n",
       " 'ENG',\n",
       " 'AUS',\n",
       " 'WI',\n",
       " 'WI',\n",
       " 'IND',\n",
       " 'ENG',\n",
       " 'NZ',\n",
       " 'NZ',\n",
       " 'SA',\n",
       " 'NZ',\n",
       " 'SA',\n",
       " 'WI',\n",
       " 'SA',\n",
       " 'SA',\n",
       " 'SL',\n",
       " 'AUS',\n",
       " 'PAK',\n",
       " 'ENG',\n",
       " 'ENG',\n",
       " 'NZ',\n",
       " 'IND',\n",
       " 'PAK',\n",
       " 'BAN',\n",
       " 'AUS',\n",
       " 'SA',\n",
       " 'PAK',\n",
       " 'ENG',\n",
       " 'IND',\n",
       " 'PAK',\n",
       " 'NZ',\n",
       " 'SL',\n",
       " 'PAK',\n",
       " 'IND',\n",
       " 'IRE',\n",
       " 'SA',\n",
       " 'PAK',\n",
       " 'BAN',\n",
       " 'IRE',\n",
       " 'PAK',\n",
       " 'IND',\n",
       " 'WI',\n",
       " 'ENG',\n",
       " 'SA',\n",
       " 'NZ',\n",
       " 'IND',\n",
       " 'PAK',\n",
       " 'AUS',\n",
       " 'SA',\n",
       " 'ENG',\n",
       " 'BAN',\n",
       " 'IND',\n",
       " 'BAN',\n",
       " 'BAN',\n",
       " 'WI',\n",
       " 'SL',\n",
       " 'IND',\n",
       " 'SL',\n",
       " 'BAN',\n",
       " 'NZ',\n",
       " 'SA',\n",
       " 'NZ',\n",
       " 'AUS',\n",
       " 'ENG',\n",
       " 'SL',\n",
       " 'WI',\n",
       " 'IRE',\n",
       " 'BAN',\n",
       " 'BAN',\n",
       " 'AUS',\n",
       " 'ZIM',\n",
       " 'IND',\n",
       " 'NZ',\n",
       " 'IRE',\n",
       " 'ENG',\n",
       " 'SA',\n",
       " 'BAN',\n",
       " 'IND',\n",
       " 'WI',\n",
       " 'IRE',\n",
       " 'ZIM',\n",
       " 'IND',\n",
       " 'IRE',\n",
       " 'IND',\n",
       " 'NZ',\n",
       " 'IND',\n",
       " 'NZ',\n",
       " 'IRE',\n",
       " 'IRE',\n",
       " 'IND',\n",
       " 'SL',\n",
       " 'SL',\n",
       " 'SL']"
      ]
     },
     "execution_count": 52,
     "metadata": {},
     "output_type": "execute_result"
    }
   ],
   "source": [
    "rating = []\n",
    "for r in soup.find_all('td', class_ = \"table-body__cell rating\"):\n",
    "    rating.append(r.text)\n",
    "rating\n",
    "\n",
    "team = []\n",
    "for t in soup.find_all('span', class_ = \"table-body__logo-text\"):\n",
    "    team.append(t.text)\n",
    "team\n",
    "    \n",
    "    "
   ]
  },
  {
   "cell_type": "code",
   "execution_count": 54,
   "id": "62624747",
   "metadata": {},
   "outputs": [
    {
     "name": "stdout",
     "output_type": "stream",
     "text": [
      "['750', '748', '713', '710', '701', '681', '669', '659', '642', '625', '616', '602', '601', '597', '591', '571', '568', '564', '553', '546', '527', '526', '506', '499', '493', '483', '474', '471', '470', '468', '445', '438', '435', '426', '421', '421', '420', '409', '409', '407', '406', '400', '393', '382', '381', '380', '378', '376', '373', '372', '346', '346', '341', '339', '338', '334', '330', '328', '326', '321', '316', '305', '304', '301', '297', '294', '294', '293', '274', '268', '267', '263', '255', '252', '248', '244', '242', '242', '238', '235', '235', '231', '229', '223', '223', '221', '221', '217', '216', '216', '213', '212', '212', '211', '211', '209', '204', '201', '197']\n",
      "['ENG', 'AUS', 'SA', 'AUS', 'AUS', 'NZ', 'IND', 'ENG', 'AUS', 'WI', 'WI', 'IND', 'ENG', 'NZ', 'NZ', 'SA', 'NZ', 'SA', 'WI', 'SA', 'SA', 'SL', 'AUS', 'PAK', 'ENG', 'ENG', 'NZ', 'IND', 'PAK', 'BAN', 'AUS', 'SA', 'PAK', 'ENG', 'IND', 'PAK', 'NZ', 'SL', 'PAK', 'IND', 'IRE', 'SA', 'PAK', 'BAN', 'IRE', 'PAK', 'IND', 'WI', 'ENG', 'SA', 'NZ', 'IND', 'PAK', 'AUS', 'SA', 'ENG', 'BAN', 'IND', 'BAN', 'BAN', 'WI', 'SL', 'IND', 'SL', 'BAN', 'NZ', 'SA', 'NZ', 'AUS', 'ENG', 'SL', 'WI', 'IRE', 'BAN', 'BAN', 'AUS', 'ZIM', 'IND', 'NZ', 'IRE', 'ENG', 'SA', 'BAN', 'IND', 'WI', 'IRE', 'ZIM', 'IND', 'IRE', 'IND', 'NZ', 'IND', 'NZ', 'IRE', 'IRE', 'IND', 'SL', 'SL', 'SL']\n"
     ]
    }
   ],
   "source": [
    "print(rating)\n",
    "print(team)"
   ]
  },
  {
   "cell_type": "code",
   "execution_count": 56,
   "id": "5b2f1861",
   "metadata": {},
   "outputs": [],
   "source": [
    "page = requests.get('https://www.icc-cricket.com/rankings/womens/team-rankings/odi')\n",
    "soup = BeautifulSoup(page.content, \"html.parser\")"
   ]
  },
  {
   "cell_type": "code",
   "execution_count": 57,
   "id": "3b921cbc",
   "metadata": {},
   "outputs": [
    {
     "data": {
      "text/plain": [
       "['32',\n",
       " '3,949',\n",
       " '30',\n",
       " '3,531',\n",
       " '29',\n",
       " '2,889',\n",
       " '31',\n",
       " '3,019',\n",
       " '30',\n",
       " '2,768',\n",
       " '12',\n",
       " '930',\n",
       " '30',\n",
       " '1,962',\n",
       " '8',\n",
       " '384',\n",
       " '8',\n",
       " '351',\n",
       " '8',\n",
       " '0']"
      ]
     },
     "execution_count": 57,
     "metadata": {},
     "output_type": "execute_result"
    }
   ],
   "source": [
    "# top 10 \n",
    "team = []\n",
    "for t in soup.find_all('span', class_ = \"u-hide-phablet\"):\n",
    "    team.append(t.text)\n",
    "    \n",
    "matches = []\n",
    "for m in soup.find_all('td', class_ = \"table-body__cell u-center-text\"):\n",
    "    matches.append(m.text)\n",
    "    \n",
    "rating = []\n",
    "for r in soup.find_all('td', class_ = \"table-body__cell u-text-right rating\"):\n",
    "    rating.append(r.text)\n",
    "rating\n",
    "\n",
    "points = []\n",
    "for p in soup.find_all('td', class_ = \"table-body__cell u-center-text\"):\n",
    "    points.append(p.text)\n",
    "points"
   ]
  },
  {
   "cell_type": "code",
   "execution_count": 58,
   "id": "6e02e8ba",
   "metadata": {},
   "outputs": [
    {
     "data": {
      "text/plain": [
       "['Australia',\n",
       " 'South Africa',\n",
       " 'England',\n",
       " 'India',\n",
       " 'New Zealand',\n",
       " 'West Indies',\n",
       " 'Bangladesh',\n",
       " 'Pakistan',\n",
       " 'Sri Lanka',\n",
       " 'Ireland',\n",
       " 'Zimbabwe',\n",
       " '',\n",
       " '',\n",
       " '',\n",
       " '',\n",
       " '']"
      ]
     },
     "execution_count": 58,
     "metadata": {},
     "output_type": "execute_result"
    }
   ],
   "source": [
    "team"
   ]
  },
  {
   "cell_type": "code",
   "execution_count": 59,
   "id": "ce357792",
   "metadata": {},
   "outputs": [
    {
     "data": {
      "text/plain": [
       "['32',\n",
       " '3,949',\n",
       " '30',\n",
       " '3,531',\n",
       " '29',\n",
       " '2,889',\n",
       " '31',\n",
       " '3,019',\n",
       " '30',\n",
       " '2,768',\n",
       " '12',\n",
       " '930',\n",
       " '30',\n",
       " '1,962',\n",
       " '8',\n",
       " '384',\n",
       " '8',\n",
       " '351',\n",
       " '8',\n",
       " '0']"
      ]
     },
     "execution_count": 59,
     "metadata": {},
     "output_type": "execute_result"
    }
   ],
   "source": [
    "matches"
   ]
  },
  {
   "cell_type": "code",
   "execution_count": 60,
   "id": "71df7b54",
   "metadata": {},
   "outputs": [
    {
     "data": {
      "text/plain": [
       "['123', '118', '100', '97', '92', '78', '65', '48', '44', '0']"
      ]
     },
     "execution_count": 60,
     "metadata": {},
     "output_type": "execute_result"
    }
   ],
   "source": [
    "rating"
   ]
  },
  {
   "cell_type": "code",
   "execution_count": 61,
   "id": "4b23f2f9",
   "metadata": {},
   "outputs": [
    {
     "data": {
      "text/plain": [
       "['32',\n",
       " '3,949',\n",
       " '30',\n",
       " '3,531',\n",
       " '29',\n",
       " '2,889',\n",
       " '31',\n",
       " '3,019',\n",
       " '30',\n",
       " '2,768',\n",
       " '12',\n",
       " '930',\n",
       " '30',\n",
       " '1,962',\n",
       " '8',\n",
       " '384',\n",
       " '8',\n",
       " '351',\n",
       " '8',\n",
       " '0']"
      ]
     },
     "execution_count": 61,
     "metadata": {},
     "output_type": "execute_result"
    }
   ],
   "source": [
    "points"
   ]
  },
  {
   "cell_type": "code",
   "execution_count": null,
   "id": "ff1c8873",
   "metadata": {},
   "outputs": [],
   "source": []
  }
 ],
 "metadata": {
  "kernelspec": {
   "display_name": "Python 3 (ipykernel)",
   "language": "python",
   "name": "python3"
  },
  "language_info": {
   "codemirror_mode": {
    "name": "ipython",
    "version": 3
   },
   "file_extension": ".py",
   "mimetype": "text/x-python",
   "name": "python",
   "nbconvert_exporter": "python",
   "pygments_lexer": "ipython3",
   "version": "3.9.12"
  }
 },
 "nbformat": 4,
 "nbformat_minor": 5
}
