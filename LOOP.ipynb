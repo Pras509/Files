{
 "cells": [
  {
   "cell_type": "code",
   "execution_count": 3,
   "id": "2cfd7732",
   "metadata": {},
   "outputs": [
    {
     "name": "stdout",
     "output_type": "stream",
     "text": [
      "10\n",
      "30\n",
      "60\n",
      "100\n",
      "150\n",
      "210\n",
      "280\n",
      "360\n",
      "450\n",
      "550\n",
      "Total sum value is 550\n"
     ]
    }
   ],
   "source": [
    "num = [10, 20, 30, 40, 50, 60, 70, 80, 90, 100]\n",
    "sum = 0\n",
    "\n",
    "for i in num:\n",
    "    sum = i + sum\n",
    "    print(sum)\n",
    "print('Total sum value is', sum)\n",
    "    "
   ]
  },
  {
   "cell_type": "code",
   "execution_count": 10,
   "id": "8c9f5bee",
   "metadata": {},
   "outputs": [
    {
     "name": "stdout",
     "output_type": "stream",
     "text": [
      "less than 40\n",
      "less than 40\n",
      "less than 40\n",
      "less than 40\n",
      "50\n",
      "110\n",
      "180\n",
      "260\n",
      "350\n",
      "450\n",
      "Total sum value is 450\n"
     ]
    }
   ],
   "source": [
    "num = [10, 20, 30, 40, 50, 60, 70, 80, 90, 100]\n",
    "sum = 0\n",
    "\n",
    "for i in num:\n",
    "    if i > 40:\n",
    "        sum = i + sum\n",
    "        print(sum)\n",
    "    else:\n",
    "        print('less than 40')\n",
    "print('Total sum value is', sum)\n",
    "\n",
    "    "
   ]
  },
  {
   "cell_type": "code",
   "execution_count": null,
   "id": "744efb86",
   "metadata": {},
   "outputs": [],
   "source": []
  }
 ],
 "metadata": {
  "kernelspec": {
   "display_name": "Python 3 (ipykernel)",
   "language": "python",
   "name": "python3"
  },
  "language_info": {
   "codemirror_mode": {
    "name": "ipython",
    "version": 3
   },
   "file_extension": ".py",
   "mimetype": "text/x-python",
   "name": "python",
   "nbconvert_exporter": "python",
   "pygments_lexer": "ipython3",
   "version": "3.9.12"
  }
 },
 "nbformat": 4,
 "nbformat_minor": 5
}
