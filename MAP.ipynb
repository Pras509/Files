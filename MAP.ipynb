{
 "cells": [
  {
   "cell_type": "code",
   "execution_count": 1,
   "id": "6e0871d1",
   "metadata": {},
   "outputs": [],
   "source": [
    "def Farenhiet(T):\n",
    "    return ((float(9)/5)*T + 32)\n",
    "\n",
    "def Celcius(C):\n",
    "    return ((float(9)/5*C -32))\n"
   ]
  },
  {
   "cell_type": "code",
   "execution_count": 2,
   "id": "051275cf",
   "metadata": {},
   "outputs": [],
   "source": [
    "temp = [0, 22.5, 36.7, 17.9, 18.5, 40, 100]"
   ]
  },
  {
   "cell_type": "code",
   "execution_count": 10,
   "id": "66979664",
   "metadata": {},
   "outputs": [],
   "source": [
    "a = list(map(Farenhiet, temp))"
   ]
  },
  {
   "cell_type": "code",
   "execution_count": 7,
   "id": "704271a9",
   "metadata": {},
   "outputs": [
    {
     "data": {
      "text/plain": [
       "[32.0, 72.5, 98.06, 64.22, 65.30000000000001, 104.0, 212.0]"
      ]
     },
     "execution_count": 7,
     "metadata": {},
     "output_type": "execute_result"
    }
   ],
   "source": [
    "a"
   ]
  },
  {
   "cell_type": "code",
   "execution_count": 11,
   "id": "6a2e0050",
   "metadata": {},
   "outputs": [],
   "source": [
    "b = list(map(Celcius, temp))"
   ]
  },
  {
   "cell_type": "code",
   "execution_count": 12,
   "id": "adf87862",
   "metadata": {},
   "outputs": [
    {
     "data": {
      "text/plain": [
       "[-32.0, 8.5, 34.06, 0.21999999999999886, 1.3000000000000043, 40.0, 148.0]"
      ]
     },
     "execution_count": 12,
     "metadata": {},
     "output_type": "execute_result"
    }
   ],
   "source": [
    "b"
   ]
  },
  {
   "cell_type": "code",
   "execution_count": 13,
   "id": "e75b5caa",
   "metadata": {},
   "outputs": [],
   "source": [
    "temp1 = [0, 22, 17, 39, 18, 18, 19]"
   ]
  },
  {
   "cell_type": "code",
   "execution_count": 15,
   "id": "784f75a0",
   "metadata": {},
   "outputs": [],
   "source": [
    "a1 = list(map(Farenhiet, temp1))"
   ]
  },
  {
   "cell_type": "code",
   "execution_count": 16,
   "id": "b05e2d80",
   "metadata": {},
   "outputs": [
    {
     "data": {
      "text/plain": [
       "[32.0, 71.6, 62.6, 102.2, 64.4, 64.4, 66.2]"
      ]
     },
     "execution_count": 16,
     "metadata": {},
     "output_type": "execute_result"
    }
   ],
   "source": [
    "a1"
   ]
  },
  {
   "cell_type": "code",
   "execution_count": null,
   "id": "4f88a3ab",
   "metadata": {},
   "outputs": [],
   "source": []
  }
 ],
 "metadata": {
  "kernelspec": {
   "display_name": "Python 3 (ipykernel)",
   "language": "python",
   "name": "python3"
  },
  "language_info": {
   "codemirror_mode": {
    "name": "ipython",
    "version": 3
   },
   "file_extension": ".py",
   "mimetype": "text/x-python",
   "name": "python",
   "nbconvert_exporter": "python",
   "pygments_lexer": "ipython3",
   "version": "3.9.12"
  }
 },
 "nbformat": 4,
 "nbformat_minor": 5
}
