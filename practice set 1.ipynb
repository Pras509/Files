{
 "cells": [
  {
   "cell_type": "code",
   "execution_count": 1,
   "id": "43bc5dbe",
   "metadata": {},
   "outputs": [],
   "source": [
    "list = [100, 200, 300, 400, 500]\n",
    "list.reverse()"
   ]
  },
  {
   "cell_type": "code",
   "execution_count": 2,
   "id": "913c45a1",
   "metadata": {},
   "outputs": [
    {
     "name": "stdout",
     "output_type": "stream",
     "text": [
      "[500, 400, 300, 200, 100]\n"
     ]
    }
   ],
   "source": [
    "print(list)"
   ]
  },
  {
   "cell_type": "code",
   "execution_count": 3,
   "id": "f7e721cd",
   "metadata": {},
   "outputs": [],
   "source": [
    "basekt = {'apple', 'boy', 'chennai', 'apple', 'boy'}"
   ]
  },
  {
   "cell_type": "code",
   "execution_count": 5,
   "id": "90b9ab51",
   "metadata": {},
   "outputs": [
    {
     "name": "stdout",
     "output_type": "stream",
     "text": [
      "{'apple', 'boy', 'chennai'}\n"
     ]
    }
   ],
   "source": [
    "print(basekt)"
   ]
  },
  {
   "cell_type": "code",
   "execution_count": 1,
   "id": "d6e47f21",
   "metadata": {},
   "outputs": [
    {
     "data": {
      "text/plain": [
       "[1, 4, 9, 16, 25]"
      ]
     },
     "execution_count": 1,
     "metadata": {},
     "output_type": "execute_result"
    }
   ],
   "source": [
    "squares = [1, 4, 9, 16, 25]\n",
    "\n",
    "squares"
   ]
  },
  {
   "cell_type": "code",
   "execution_count": 2,
   "id": "4edb96a4",
   "metadata": {},
   "outputs": [
    {
     "data": {
      "text/plain": [
       "1"
      ]
     },
     "execution_count": 2,
     "metadata": {},
     "output_type": "execute_result"
    }
   ],
   "source": [
    "squares[0]\n"
   ]
  },
  {
   "cell_type": "code",
   "execution_count": 3,
   "id": "9269dba6",
   "metadata": {},
   "outputs": [
    {
     "data": {
      "text/plain": [
       "25"
      ]
     },
     "execution_count": 3,
     "metadata": {},
     "output_type": "execute_result"
    }
   ],
   "source": [
    "squares[-1]"
   ]
  },
  {
   "cell_type": "code",
   "execution_count": 4,
   "id": "c42f6328",
   "metadata": {},
   "outputs": [
    {
     "data": {
      "text/plain": [
       "[9, 16, 25]"
      ]
     },
     "execution_count": 4,
     "metadata": {},
     "output_type": "execute_result"
    }
   ],
   "source": [
    "squares[-3:]"
   ]
  },
  {
   "cell_type": "code",
   "execution_count": 5,
   "id": "b4a4e214",
   "metadata": {},
   "outputs": [
    {
     "data": {
      "text/plain": [
       "[4, 9, 16, 25]"
      ]
     },
     "execution_count": 5,
     "metadata": {},
     "output_type": "execute_result"
    }
   ],
   "source": [
    "squares[-4:]"
   ]
  },
  {
   "cell_type": "code",
   "execution_count": 6,
   "id": "5554224c",
   "metadata": {},
   "outputs": [
    {
     "data": {
      "text/plain": [
       "[1, 4, 9, 16, 25]"
      ]
     },
     "execution_count": 6,
     "metadata": {},
     "output_type": "execute_result"
    }
   ],
   "source": [
    "squares[:]"
   ]
  },
  {
   "cell_type": "code",
   "execution_count": 8,
   "id": "13d7b969",
   "metadata": {},
   "outputs": [
    {
     "data": {
      "text/plain": [
       "[1, 4, 9, 16, 25, 36, 49, 64, 81, 100]"
      ]
     },
     "execution_count": 8,
     "metadata": {},
     "output_type": "execute_result"
    }
   ],
   "source": [
    "squares + [36, 49, 64, 81, 100]"
   ]
  },
  {
   "cell_type": "code",
   "execution_count": 9,
   "id": "efcbf9a2",
   "metadata": {},
   "outputs": [],
   "source": [
    "cubes = [1, 8, 27, 65, 125]"
   ]
  },
  {
   "cell_type": "code",
   "execution_count": 10,
   "id": "14142519",
   "metadata": {},
   "outputs": [
    {
     "data": {
      "text/plain": [
       "65"
      ]
     },
     "execution_count": 10,
     "metadata": {},
     "output_type": "execute_result"
    }
   ],
   "source": [
    "cubes[3]"
   ]
  },
  {
   "cell_type": "code",
   "execution_count": 12,
   "id": "78fe5f82",
   "metadata": {},
   "outputs": [],
   "source": [
    "cubes.append(216)"
   ]
  },
  {
   "cell_type": "code",
   "execution_count": 13,
   "id": "6400ab5d",
   "metadata": {},
   "outputs": [
    {
     "data": {
      "text/plain": [
       "[1, 8, 27, 65, 125, 216]"
      ]
     },
     "execution_count": 13,
     "metadata": {},
     "output_type": "execute_result"
    }
   ],
   "source": [
    "cubes"
   ]
  },
  {
   "cell_type": "code",
   "execution_count": 14,
   "id": "d61a6e90",
   "metadata": {},
   "outputs": [],
   "source": [
    "cubes.append(7**3)"
   ]
  },
  {
   "cell_type": "code",
   "execution_count": 15,
   "id": "365db100",
   "metadata": {},
   "outputs": [
    {
     "data": {
      "text/plain": [
       "[1, 8, 27, 65, 125, 216, 343]"
      ]
     },
     "execution_count": 15,
     "metadata": {},
     "output_type": "execute_result"
    }
   ],
   "source": [
    "cubes"
   ]
  },
  {
   "cell_type": "code",
   "execution_count": 17,
   "id": "22ba9b9f",
   "metadata": {},
   "outputs": [],
   "source": [
    "letters = ['a', 'b', 'c', 'd', 'e', 'f', 'g']"
   ]
  },
  {
   "cell_type": "code",
   "execution_count": 18,
   "id": "43ec50ea",
   "metadata": {},
   "outputs": [
    {
     "data": {
      "text/plain": [
       "['a', 'b', 'c', 'd', 'e', 'f', 'g']"
      ]
     },
     "execution_count": 18,
     "metadata": {},
     "output_type": "execute_result"
    }
   ],
   "source": [
    "letters"
   ]
  },
  {
   "cell_type": "code",
   "execution_count": 19,
   "id": "a4c32cb4",
   "metadata": {},
   "outputs": [
    {
     "data": {
      "text/plain": [
       "['c', 'd', 'e']"
      ]
     },
     "execution_count": 19,
     "metadata": {},
     "output_type": "execute_result"
    }
   ],
   "source": [
    "letters[2:5]"
   ]
  },
  {
   "cell_type": "code",
   "execution_count": 20,
   "id": "4604980a",
   "metadata": {},
   "outputs": [
    {
     "data": {
      "text/plain": [
       "7"
      ]
     },
     "execution_count": 20,
     "metadata": {},
     "output_type": "execute_result"
    }
   ],
   "source": [
    "len(letters)"
   ]
  },
  {
   "cell_type": "code",
   "execution_count": 21,
   "id": "455ba743",
   "metadata": {},
   "outputs": [
    {
     "data": {
      "text/plain": [
       "1"
      ]
     },
     "execution_count": 21,
     "metadata": {},
     "output_type": "execute_result"
    }
   ],
   "source": [
    "letters.count('a')"
   ]
  },
  {
   "cell_type": "code",
   "execution_count": 22,
   "id": "8291fd64",
   "metadata": {},
   "outputs": [
    {
     "data": {
      "text/plain": [
       "3"
      ]
     },
     "execution_count": 22,
     "metadata": {},
     "output_type": "execute_result"
    }
   ],
   "source": [
    "letters.index('d')"
   ]
  },
  {
   "cell_type": "code",
   "execution_count": 23,
   "id": "58addb98",
   "metadata": {},
   "outputs": [
    {
     "data": {
      "text/plain": [
       "<function list.index(value, start=0, stop=9223372036854775807, /)>"
      ]
     },
     "execution_count": 23,
     "metadata": {},
     "output_type": "execute_result"
    }
   ],
   "source": [
    "letters.index"
   ]
  },
  {
   "cell_type": "code",
   "execution_count": 24,
   "id": "db7feb1e",
   "metadata": {},
   "outputs": [],
   "source": [
    "letters.reverse()"
   ]
  },
  {
   "cell_type": "code",
   "execution_count": 25,
   "id": "8f82b22d",
   "metadata": {},
   "outputs": [
    {
     "data": {
      "text/plain": [
       "['g', 'f', 'e', 'd', 'c', 'b', 'a']"
      ]
     },
     "execution_count": 25,
     "metadata": {},
     "output_type": "execute_result"
    }
   ],
   "source": [
    "letters"
   ]
  },
  {
   "cell_type": "code",
   "execution_count": 26,
   "id": "ff781e8b",
   "metadata": {},
   "outputs": [],
   "source": [
    "letters.append('h')"
   ]
  },
  {
   "cell_type": "code",
   "execution_count": 27,
   "id": "30f812a1",
   "metadata": {},
   "outputs": [
    {
     "data": {
      "text/plain": [
       "['g', 'f', 'e', 'd', 'c', 'b', 'a', 'h']"
      ]
     },
     "execution_count": 27,
     "metadata": {},
     "output_type": "execute_result"
    }
   ],
   "source": [
    "letters"
   ]
  },
  {
   "cell_type": "code",
   "execution_count": 28,
   "id": "951fd8eb",
   "metadata": {},
   "outputs": [],
   "source": [
    "letters.sort()"
   ]
  },
  {
   "cell_type": "code",
   "execution_count": 29,
   "id": "0e369bc7",
   "metadata": {},
   "outputs": [
    {
     "data": {
      "text/plain": [
       "['a', 'b', 'c', 'd', 'e', 'f', 'g', 'h']"
      ]
     },
     "execution_count": 29,
     "metadata": {},
     "output_type": "execute_result"
    }
   ],
   "source": [
    "letters"
   ]
  },
  {
   "cell_type": "code",
   "execution_count": 30,
   "id": "683b3869",
   "metadata": {},
   "outputs": [
    {
     "data": {
      "text/plain": [
       "'h'"
      ]
     },
     "execution_count": 30,
     "metadata": {},
     "output_type": "execute_result"
    }
   ],
   "source": [
    "letters.pop()"
   ]
  },
  {
   "cell_type": "code",
   "execution_count": 31,
   "id": "455d2b0e",
   "metadata": {},
   "outputs": [
    {
     "data": {
      "text/plain": [
       "'g'"
      ]
     },
     "execution_count": 31,
     "metadata": {},
     "output_type": "execute_result"
    }
   ],
   "source": [
    "letters.pop()"
   ]
  },
  {
   "cell_type": "code",
   "execution_count": 32,
   "id": "b9ae95f0",
   "metadata": {},
   "outputs": [
    {
     "data": {
      "text/plain": [
       "'f'"
      ]
     },
     "execution_count": 32,
     "metadata": {},
     "output_type": "execute_result"
    }
   ],
   "source": [
    "letters.pop()"
   ]
  },
  {
   "cell_type": "code",
   "execution_count": 33,
   "id": "6cecdd06",
   "metadata": {},
   "outputs": [
    {
     "data": {
      "text/plain": [
       "['a', 'b', 'c', 'd', 'e']"
      ]
     },
     "execution_count": 33,
     "metadata": {},
     "output_type": "execute_result"
    }
   ],
   "source": [
    "letters"
   ]
  },
  {
   "cell_type": "code",
   "execution_count": 36,
   "id": "28706210",
   "metadata": {},
   "outputs": [],
   "source": [
    "#Dictionary\n",
    "\n",
    "tel = {'jack': 4098, 'sape': 4139}"
   ]
  },
  {
   "cell_type": "code",
   "execution_count": 37,
   "id": "283cbcdb",
   "metadata": {},
   "outputs": [
    {
     "data": {
      "text/plain": [
       "{'jack': 4098, 'sape': 4139}"
      ]
     },
     "execution_count": 37,
     "metadata": {},
     "output_type": "execute_result"
    }
   ],
   "source": [
    "tel"
   ]
  },
  {
   "cell_type": "code",
   "execution_count": 38,
   "id": "158741b7",
   "metadata": {},
   "outputs": [],
   "source": [
    "tel['guido'] = 4127"
   ]
  },
  {
   "cell_type": "code",
   "execution_count": 39,
   "id": "93494305",
   "metadata": {},
   "outputs": [
    {
     "data": {
      "text/plain": [
       "{'jack': 4098, 'sape': 4139, 'guido': 4127}"
      ]
     },
     "execution_count": 39,
     "metadata": {},
     "output_type": "execute_result"
    }
   ],
   "source": [
    "tel"
   ]
  },
  {
   "cell_type": "code",
   "execution_count": 41,
   "id": "0f0f7cdc",
   "metadata": {},
   "outputs": [],
   "source": [
    "tel['rhino']= 6509"
   ]
  },
  {
   "cell_type": "code",
   "execution_count": 42,
   "id": "ef305cab",
   "metadata": {},
   "outputs": [
    {
     "data": {
      "text/plain": [
       "{'jack': 4098, 'sape': 4139, 'guido': 4127, 'rhino': 6509}"
      ]
     },
     "execution_count": 42,
     "metadata": {},
     "output_type": "execute_result"
    }
   ],
   "source": [
    "tel"
   ]
  },
  {
   "cell_type": "code",
   "execution_count": 43,
   "id": "ac89038b",
   "metadata": {},
   "outputs": [
    {
     "data": {
      "text/plain": [
       "4098"
      ]
     },
     "execution_count": 43,
     "metadata": {},
     "output_type": "execute_result"
    }
   ],
   "source": [
    "tel['jack']"
   ]
  },
  {
   "cell_type": "code",
   "execution_count": 44,
   "id": "753fb628",
   "metadata": {},
   "outputs": [],
   "source": [
    "del tel['sape']"
   ]
  },
  {
   "cell_type": "code",
   "execution_count": 45,
   "id": "9ddae581",
   "metadata": {},
   "outputs": [
    {
     "data": {
      "text/plain": [
       "{'jack': 4098, 'guido': 4127, 'rhino': 6509}"
      ]
     },
     "execution_count": 45,
     "metadata": {},
     "output_type": "execute_result"
    }
   ],
   "source": [
    "tel"
   ]
  },
  {
   "cell_type": "code",
   "execution_count": null,
   "id": "f5d03e17",
   "metadata": {},
   "outputs": [],
   "source": [
    "\n",
    "\n"
   ]
  },
  {
   "cell_type": "code",
   "execution_count": null,
   "id": "bfe92192",
   "metadata": {},
   "outputs": [],
   "source": []
  },
  {
   "cell_type": "code",
   "execution_count": 48,
   "id": "fc58ab19",
   "metadata": {},
   "outputs": [],
   "source": [
    "my_dictonary = {'username': \"pras509\", 'email': \"pras509@gmail.com\", 'location': \"DAarhanga\"}"
   ]
  },
  {
   "cell_type": "code",
   "execution_count": 49,
   "id": "346aeab1",
   "metadata": {},
   "outputs": [
    {
     "data": {
      "text/plain": [
       "{'username': 'pras509', 'email': 'pras509@gmail.com', 'location': 'DAarhanga'}"
      ]
     },
     "execution_count": 49,
     "metadata": {},
     "output_type": "execute_result"
    }
   ],
   "source": [
    "my_dictonary"
   ]
  },
  {
   "cell_type": "code",
   "execution_count": 51,
   "id": "5aff56ec",
   "metadata": {},
   "outputs": [
    {
     "name": "stdout",
     "output_type": "stream",
     "text": [
      "userename pras509\n",
      "email pras509@gmail.com\n",
      "location DAarhanga\n"
     ]
    }
   ],
   "source": [
    "print(\"userename\", my_dictonary['username'])\n",
    "print(\"email\", my_dictonary['email'])\n",
    "print(\"location\", my_dictonary['location'])"
   ]
  },
  {
   "cell_type": "code",
   "execution_count": 52,
   "id": "d40c70b2",
   "metadata": {},
   "outputs": [],
   "source": [
    "# adding key to dictonary\n",
    "\n",
    "my_dictonary['name']= 'prashant'"
   ]
  },
  {
   "cell_type": "code",
   "execution_count": 53,
   "id": "9a2c4e61",
   "metadata": {},
   "outputs": [
    {
     "data": {
      "text/plain": [
       "{'username': 'pras509',\n",
       " 'email': 'pras509@gmail.com',\n",
       " 'location': 'DAarhanga',\n",
       " 'name': 'prashant'}"
      ]
     },
     "execution_count": 53,
     "metadata": {},
     "output_type": "execute_result"
    }
   ],
   "source": [
    "my_dictonary"
   ]
  },
  {
   "cell_type": "code",
   "execution_count": 54,
   "id": "48cfcbb6",
   "metadata": {},
   "outputs": [],
   "source": [
    "my_dictonary['name'] = 'Prashant AAnand'"
   ]
  },
  {
   "cell_type": "code",
   "execution_count": 55,
   "id": "d5ffb92b",
   "metadata": {},
   "outputs": [
    {
     "data": {
      "text/plain": [
       "{'username': 'pras509',\n",
       " 'email': 'pras509@gmail.com',\n",
       " 'location': 'DAarhanga',\n",
       " 'name': 'Prashant AAnand'}"
      ]
     },
     "execution_count": 55,
     "metadata": {},
     "output_type": "execute_result"
    }
   ],
   "source": [
    "my_dictonary"
   ]
  },
  {
   "cell_type": "code",
   "execution_count": 61,
   "id": "14a9bd46",
   "metadata": {},
   "outputs": [
    {
     "ename": "KeyError",
     "evalue": "'name'",
     "output_type": "error",
     "traceback": [
      "\u001b[1;31m---------------------------------------------------------------------------\u001b[0m",
      "\u001b[1;31mKeyError\u001b[0m                                  Traceback (most recent call last)",
      "Input \u001b[1;32mIn [61]\u001b[0m, in \u001b[0;36m<cell line: 1>\u001b[1;34m()\u001b[0m\n\u001b[1;32m----> 1\u001b[0m \u001b[38;5;28;01mdel\u001b[39;00m my_dictonary[\u001b[38;5;124m'\u001b[39m\u001b[38;5;124mname\u001b[39m\u001b[38;5;124m'\u001b[39m]\n",
      "\u001b[1;31mKeyError\u001b[0m: 'name'"
     ]
    }
   ],
   "source": [
    "del my_dictonary['name']"
   ]
  },
  {
   "cell_type": "code",
   "execution_count": 57,
   "id": "3f341427",
   "metadata": {},
   "outputs": [
    {
     "data": {
      "text/plain": [
       "{'username': 'pras509', 'email': 'pras509@gmail.com', 'location': 'DAarhanga'}"
      ]
     },
     "execution_count": 57,
     "metadata": {},
     "output_type": "execute_result"
    }
   ],
   "source": [
    "my_dictonary"
   ]
  },
  {
   "cell_type": "code",
   "execution_count": 62,
   "id": "5ad60fca",
   "metadata": {},
   "outputs": [
    {
     "data": {
      "text/plain": [
       "'pras509'"
      ]
     },
     "execution_count": 62,
     "metadata": {},
     "output_type": "execute_result"
    }
   ],
   "source": [
    "my_dictonary.pop('username')"
   ]
  },
  {
   "cell_type": "code",
   "execution_count": 63,
   "id": "efeb4821",
   "metadata": {},
   "outputs": [
    {
     "name": "stdout",
     "output_type": "stream",
     "text": [
      "{'email': 'pras509@gmail.com', 'location': 'DAarhanga'}\n"
     ]
    }
   ],
   "source": [
    "print(my_dictonary)"
   ]
  },
  {
   "cell_type": "code",
   "execution_count": 64,
   "id": "dd15cf9f",
   "metadata": {},
   "outputs": [],
   "source": [
    "my_dictonary.clear()"
   ]
  },
  {
   "cell_type": "code",
   "execution_count": 65,
   "id": "4fe7b6d4",
   "metadata": {},
   "outputs": [
    {
     "data": {
      "text/plain": [
       "{}"
      ]
     },
     "execution_count": 65,
     "metadata": {},
     "output_type": "execute_result"
    }
   ],
   "source": [
    "my_dictonary"
   ]
  },
  {
   "cell_type": "code",
   "execution_count": 66,
   "id": "8b170212",
   "metadata": {},
   "outputs": [],
   "source": [
    "name = \"Prashant Aanand\""
   ]
  },
  {
   "cell_type": "code",
   "execution_count": 67,
   "id": "4f36c4ef",
   "metadata": {},
   "outputs": [
    {
     "data": {
      "text/plain": [
       "'prashant aanand'"
      ]
     },
     "execution_count": 67,
     "metadata": {},
     "output_type": "execute_result"
    }
   ],
   "source": [
    "name.lower()"
   ]
  },
  {
   "cell_type": "code",
   "execution_count": 68,
   "id": "7420c721",
   "metadata": {},
   "outputs": [
    {
     "data": {
      "text/plain": [
       "'PRASHANT AANAND'"
      ]
     },
     "execution_count": 68,
     "metadata": {},
     "output_type": "execute_result"
    }
   ],
   "source": [
    "name.upper()"
   ]
  },
  {
   "cell_type": "code",
   "execution_count": 69,
   "id": "50aa06af",
   "metadata": {},
   "outputs": [
    {
     "data": {
      "text/plain": [
       "15"
      ]
     },
     "execution_count": 69,
     "metadata": {},
     "output_type": "execute_result"
    }
   ],
   "source": [
    "len(name)"
   ]
  },
  {
   "cell_type": "code",
   "execution_count": 70,
   "id": "09ced804",
   "metadata": {},
   "outputs": [
    {
     "data": {
      "text/plain": [
       "'Prashant aanand'"
      ]
     },
     "execution_count": 70,
     "metadata": {},
     "output_type": "execute_result"
    }
   ],
   "source": [
    "name.capitalize()"
   ]
  },
  {
   "cell_type": "code",
   "execution_count": 71,
   "id": "ed4818c6",
   "metadata": {},
   "outputs": [
    {
     "data": {
      "text/plain": [
       "False"
      ]
     },
     "execution_count": 71,
     "metadata": {},
     "output_type": "execute_result"
    }
   ],
   "source": [
    "name.isalpha()"
   ]
  },
  {
   "cell_type": "code",
   "execution_count": 72,
   "id": "8e339804",
   "metadata": {},
   "outputs": [],
   "source": [
    "starship = \"Enterprise\""
   ]
  },
  {
   "cell_type": "code",
   "execution_count": 73,
   "id": "6ae83513",
   "metadata": {},
   "outputs": [
    {
     "data": {
      "text/plain": [
       "False"
      ]
     },
     "execution_count": 73,
     "metadata": {},
     "output_type": "execute_result"
    }
   ],
   "source": [
    "starship.startswith(\"en\")"
   ]
  },
  {
   "cell_type": "code",
   "execution_count": 74,
   "id": "fdaee7f3",
   "metadata": {},
   "outputs": [
    {
     "data": {
      "text/plain": [
       "True"
      ]
     },
     "execution_count": 74,
     "metadata": {},
     "output_type": "execute_result"
    }
   ],
   "source": [
    "starship.endswith(\"rise\")"
   ]
  },
  {
   "cell_type": "code",
   "execution_count": 75,
   "id": "38846b07",
   "metadata": {},
   "outputs": [],
   "source": [
    "txt = \"i like bananas\""
   ]
  },
  {
   "cell_type": "code",
   "execution_count": 76,
   "id": "1a49a1d3",
   "metadata": {},
   "outputs": [],
   "source": [
    "x = txt.replace(\"bananas\", \"apples\")"
   ]
  },
  {
   "cell_type": "code",
   "execution_count": 77,
   "id": "74c44530",
   "metadata": {},
   "outputs": [
    {
     "data": {
      "text/plain": [
       "'i like apples'"
      ]
     },
     "execution_count": 77,
     "metadata": {},
     "output_type": "execute_result"
    }
   ],
   "source": [
    "x\n"
   ]
  },
  {
   "cell_type": "code",
   "execution_count": 79,
   "id": "50af55e5",
   "metadata": {},
   "outputs": [],
   "source": [
    "phrase = \"the suprise is hidded here somewhere lund and we have to find it\""
   ]
  },
  {
   "cell_type": "code",
   "execution_count": 81,
   "id": "825c2a12",
   "metadata": {},
   "outputs": [
    {
     "data": {
      "text/plain": [
       "37"
      ]
     },
     "execution_count": 81,
     "metadata": {},
     "output_type": "execute_result"
    }
   ],
   "source": [
    "phrase.index(\"lund\")"
   ]
  },
  {
   "cell_type": "code",
   "execution_count": 82,
   "id": "da9a6fb9",
   "metadata": {},
   "outputs": [
    {
     "data": {
      "text/plain": [
       "64"
      ]
     },
     "execution_count": 82,
     "metadata": {},
     "output_type": "execute_result"
    }
   ],
   "source": [
    "len(phrase)"
   ]
  },
  {
   "cell_type": "code",
   "execution_count": 83,
   "id": "83b90999",
   "metadata": {},
   "outputs": [
    {
     "data": {
      "text/plain": [
       "['the',\n",
       " 'suprise',\n",
       " 'is',\n",
       " 'hidded',\n",
       " 'here',\n",
       " 'somewhere',\n",
       " 'lund',\n",
       " 'and',\n",
       " 'we',\n",
       " 'have',\n",
       " 'to',\n",
       " 'find',\n",
       " 'it']"
      ]
     },
     "execution_count": 83,
     "metadata": {},
     "output_type": "execute_result"
    }
   ],
   "source": [
    "phrase.split()"
   ]
  },
  {
   "cell_type": "code",
   "execution_count": 84,
   "id": "2000c8e7",
   "metadata": {},
   "outputs": [],
   "source": [
    "text = \"Hello world:, Datatrained:, lund\""
   ]
  },
  {
   "cell_type": "code",
   "execution_count": 85,
   "id": "aae8e44b",
   "metadata": {},
   "outputs": [
    {
     "data": {
      "text/plain": [
       "['Hello world', ', Datatrained', ', lund']"
      ]
     },
     "execution_count": 85,
     "metadata": {},
     "output_type": "execute_result"
    }
   ],
   "source": [
    "text.split(\":\")"
   ]
  },
  {
   "cell_type": "code",
   "execution_count": 90,
   "id": "87224c69",
   "metadata": {},
   "outputs": [],
   "source": [
    "names = \"Animals\",\"Badger\", \"Honey bee\""
   ]
  },
  {
   "cell_type": "code",
   "execution_count": 91,
   "id": "495a899a",
   "metadata": {},
   "outputs": [
    {
     "data": {
      "text/plain": [
       "('Animals', 'Badger', 'Honey bee')"
      ]
     },
     "execution_count": 91,
     "metadata": {},
     "output_type": "execute_result"
    }
   ],
   "source": [
    "names\n",
    "\n",
    "\n",
    "\n"
   ]
  },
  {
   "cell_type": "code",
   "execution_count": 93,
   "id": "63dbcdbb",
   "metadata": {},
   "outputs": [
    {
     "ename": "AttributeError",
     "evalue": "'tuple' object has no attribute 'lower'",
     "output_type": "error",
     "traceback": [
      "\u001b[1;31m---------------------------------------------------------------------------\u001b[0m",
      "\u001b[1;31mAttributeError\u001b[0m                            Traceback (most recent call last)",
      "Input \u001b[1;32mIn [93]\u001b[0m, in \u001b[0;36m<cell line: 1>\u001b[1;34m()\u001b[0m\n\u001b[1;32m----> 1\u001b[0m \u001b[43mnames\u001b[49m\u001b[38;5;241;43m.\u001b[39;49m\u001b[43mlower\u001b[49m\n",
      "\u001b[1;31mAttributeError\u001b[0m: 'tuple' object has no attribute 'lower'"
     ]
    }
   ],
   "source": [
    "names.lower"
   ]
  },
  {
   "cell_type": "code",
   "execution_count": 99,
   "id": "aee9e8a3",
   "metadata": {},
   "outputs": [],
   "source": [
    "string1 = \"Becomes\"\n",
    "string2 = \"becomes\"\n",
    "string3 = 'Bear'\n",
    "string4 = 'bEautifil'"
   ]
  },
  {
   "cell_type": "code",
   "execution_count": 103,
   "id": "b98184f5",
   "metadata": {},
   "outputs": [
    {
     "name": "stdout",
     "output_type": "stream",
     "text": [
      "Becomes Its not true\n",
      "becomes yes is true\n",
      "Bear Its not true\n",
      "bEautifil Its not true\n"
     ]
    }
   ],
   "source": [
    "for val in string1, string2, string3, string4:\n",
    "    if val.startswith('be'):\n",
    "        print(val, 'yes is true')\n",
    "    else:\n",
    "        print(val, 'Its not true')\n",
    "        "
   ]
  },
  {
   "cell_type": "code",
   "execution_count": 104,
   "id": "5c2ca057",
   "metadata": {},
   "outputs": [
    {
     "name": "stdout",
     "output_type": "stream",
     "text": [
      "becomes\n",
      "becomes\n",
      "bear\n",
      "beautifil\n"
     ]
    }
   ],
   "source": [
    "for val in string1, string2, string3, string4:\n",
    "    print(val.lower())"
   ]
  },
  {
   "cell_type": "code",
   "execution_count": 106,
   "id": "6de4c14c",
   "metadata": {},
   "outputs": [
    {
     "name": "stdout",
     "output_type": "stream",
     "text": [
      "Enter the valueprashant\n",
      "8\n"
     ]
    }
   ],
   "source": [
    "a = input(\"Enter the value\")\n",
    "print(len(a))"
   ]
  },
  {
   "cell_type": "code",
   "execution_count": null,
   "id": "027dd280",
   "metadata": {},
   "outputs": [],
   "source": [
    "range (5, 10)\n",
    "a = [\"Mary\", \"had\", \"a\", \"little\", ]"
   ]
  },
  {
   "cell_type": "code",
   "execution_count": 7,
   "id": "1e586502",
   "metadata": {},
   "outputs": [
    {
     "name": "stdout",
     "output_type": "stream",
     "text": [
      "Enter the number1\n",
      "its one\n"
     ]
    }
   ],
   "source": [
    "x = int(input(\"Enter the number\"))\n",
    "\n",
    "if x <0:\n",
    "    x = 0\n",
    "    print('Negative changed to zero')\n",
    "elif x ==0:\n",
    "    print(\"its zero\")\n",
    "elif x ==1:\n",
    "    print(\"its one\")\n",
    "else:\n",
    "    print(\"Its more than zero\")"
   ]
  },
  {
   "cell_type": "code",
   "execution_count": 22,
   "id": "fbdeaf1b",
   "metadata": {},
   "outputs": [
    {
     "name": "stdout",
     "output_type": "stream",
     "text": [
      "0 Its even number\n",
      "1 its odd number\n",
      "2 Its even number\n",
      "3 its odd number\n",
      "4 Its even number\n",
      "5 its odd number\n",
      "6 Its even number\n",
      "7 its odd number\n",
      "8 Its even number\n",
      "9 its odd number\n",
      "10 Its even number\n",
      "11 its odd number\n",
      "12 Its even number\n",
      "13 its odd number\n",
      "14 Its even number\n",
      "15 its odd number\n",
      "16 Its even number\n",
      "17 its odd number\n",
      "18 Its even number\n",
      "19 its odd number\n",
      "20 Its even number\n",
      "21 its odd number\n",
      "22 Its even number\n",
      "23 its odd number\n",
      "24 Its even number\n",
      "25 its odd number\n",
      "26 Its even number\n",
      "27 its odd number\n",
      "28 Its even number\n",
      "29 its odd number\n",
      "30 Its even number\n",
      "31 its odd number\n",
      "32 Its even number\n",
      "33 its odd number\n",
      "34 Its even number\n",
      "35 its odd number\n",
      "36 Its even number\n",
      "37 its odd number\n",
      "38 Its even number\n",
      "39 its odd number\n",
      "40 Its even number\n",
      "41 its odd number\n",
      "42 Its even number\n",
      "43 its odd number\n",
      "44 Its even number\n",
      "45 its odd number\n",
      "46 Its even number\n",
      "47 its odd number\n",
      "48 Its even number\n",
      "49 its odd number\n",
      "50 Its even number\n",
      "51 its odd number\n",
      "52 Its even number\n",
      "53 its odd number\n",
      "54 Its even number\n",
      "55 its odd number\n",
      "56 Its even number\n",
      "57 its odd number\n",
      "58 Its even number\n",
      "59 its odd number\n",
      "60 Its even number\n",
      "61 its odd number\n",
      "62 Its even number\n",
      "63 its odd number\n",
      "64 Its even number\n",
      "65 its odd number\n",
      "66 Its even number\n",
      "67 its odd number\n",
      "68 Its even number\n",
      "69 its odd number\n",
      "70 Its even number\n",
      "71 its odd number\n",
      "72 Its even number\n",
      "73 its odd number\n",
      "74 Its even number\n",
      "75 its odd number\n",
      "76 Its even number\n",
      "77 its odd number\n",
      "78 Its even number\n",
      "79 its odd number\n",
      "80 Its even number\n",
      "81 its odd number\n",
      "82 Its even number\n",
      "83 its odd number\n",
      "84 Its even number\n",
      "85 its odd number\n",
      "86 Its even number\n",
      "87 its odd number\n",
      "88 Its even number\n",
      "89 its odd number\n",
      "90 Its even number\n",
      "91 its odd number\n",
      "92 Its even number\n",
      "93 its odd number\n",
      "94 Its even number\n",
      "95 its odd number\n",
      "96 Its even number\n",
      "97 its odd number\n",
      "98 Its even number\n"
     ]
    }
   ],
   "source": [
    "# write a python program to find even or odd using loop function\n",
    "\n",
    "x = range(0, 99)\n",
    "\n",
    "for i in x:\n",
    "    if i % 2 == 0:\n",
    "        print(i, \"Its even number\")\n",
    "    else:\n",
    "        print(i, \"its odd number\")"
   ]
  },
  {
   "cell_type": "code",
   "execution_count": 20,
   "id": "29f2fed7",
   "metadata": {},
   "outputs": [
    {
     "data": {
      "text/plain": [
       "1"
      ]
     },
     "execution_count": 20,
     "metadata": {},
     "output_type": "execute_result"
    }
   ],
   "source": [
    "5%2"
   ]
  },
  {
   "cell_type": "code",
   "execution_count": 13,
   "id": "fc0dd8f5",
   "metadata": {},
   "outputs": [
    {
     "data": {
      "text/plain": [
       "0"
      ]
     },
     "execution_count": 13,
     "metadata": {},
     "output_type": "execute_result"
    }
   ],
   "source": [
    "5&2"
   ]
  },
  {
   "cell_type": "code",
   "execution_count": 14,
   "id": "abb37ba1",
   "metadata": {},
   "outputs": [
    {
     "data": {
      "text/plain": [
       "0"
      ]
     },
     "execution_count": 14,
     "metadata": {},
     "output_type": "execute_result"
    }
   ],
   "source": [
    "4%2"
   ]
  },
  {
   "cell_type": "code",
   "execution_count": 15,
   "id": "dfed63ef",
   "metadata": {},
   "outputs": [
    {
     "data": {
      "text/plain": [
       "0"
      ]
     },
     "execution_count": 15,
     "metadata": {},
     "output_type": "execute_result"
    }
   ],
   "source": [
    "78%2"
   ]
  },
  {
   "cell_type": "code",
   "execution_count": 3,
   "id": "4aab7045",
   "metadata": {},
   "outputs": [
    {
     "name": "stdout",
     "output_type": "stream",
     "text": [
      "0\n",
      "1\n",
      "2\n",
      "3\n",
      "4\n",
      "5\n",
      "6\n",
      "7\n",
      "8\n",
      "9\n",
      "10\n",
      "11\n",
      "12\n",
      "13\n",
      "14\n"
     ]
    }
   ],
   "source": [
    "x = range(0, 99)\n",
    "\n",
    "for i in x:\n",
    "    if i == 15:break\n",
    "    print(i)\n",
    "        "
   ]
  },
  {
   "cell_type": "code",
   "execution_count": 8,
   "id": "93918a5c",
   "metadata": {},
   "outputs": [],
   "source": [
    "x = list(range(1,99))"
   ]
  },
  {
   "cell_type": "code",
   "execution_count": 15,
   "id": "072f5643",
   "metadata": {},
   "outputs": [
    {
     "name": "stdout",
     "output_type": "stream",
     "text": [
      "sum is 1\n",
      "sum is 3\n",
      "sum is 6\n",
      "sum is 10\n",
      "sum is 15\n",
      "sum is 21\n",
      "sum is 28\n",
      "sum is 36\n",
      "sum is 45\n",
      "sum is 55\n",
      "sum is 66\n",
      "sum is 78\n",
      "sum is 91\n",
      "sum is 105\n",
      "sum is 120\n",
      "sum is 136\n",
      "sum is 153\n",
      "sum is 171\n",
      "sum is 190\n",
      "sum is 210\n",
      "sum is 231\n",
      "sum is 253\n",
      "sum is 276\n",
      "sum is 300\n",
      "sum is 325\n",
      "sum is 351\n",
      "sum is 378\n",
      "sum is 406\n",
      "sum is 435\n",
      "sum is 465\n",
      "sum is 496\n",
      "sum is 528\n",
      "sum is 561\n",
      "sum is 595\n",
      "sum is 630\n",
      "sum is 666\n",
      "sum is 703\n",
      "sum is 741\n",
      "sum is 780\n",
      "sum is 820\n",
      "sum is 861\n",
      "sum is 903\n",
      "sum is 946\n",
      "sum is 990\n",
      "sum is 1035\n",
      "sum is 1081\n",
      "sum is 1128\n",
      "sum is 1176\n",
      "sum is 1225\n",
      "sum is 1275\n",
      "sum is 1326\n",
      "sum is 1378\n",
      "sum is 1431\n",
      "sum is 1485\n",
      "sum is 1540\n",
      "sum is 1596\n",
      "sum is 1653\n",
      "sum is 1711\n",
      "sum is 1770\n",
      "sum is 1830\n",
      "sum is 1891\n",
      "sum is 1953\n",
      "sum is 2016\n",
      "sum is 2080\n",
      "sum is 2145\n",
      "sum is 2211\n",
      "sum is 2278\n",
      "sum is 2346\n",
      "sum is 2415\n",
      "sum is 2485\n",
      "sum is 2556\n",
      "sum is 2628\n",
      "sum is 2701\n",
      "sum is 2775\n",
      "sum is 2850\n",
      "sum is 2926\n",
      "sum is 3003\n",
      "sum is 3081\n",
      "sum is 3160\n",
      "sum is 3240\n",
      "sum is 3321\n",
      "sum is 3403\n",
      "sum is 3486\n",
      "sum is 3570\n",
      "sum is 3655\n",
      "sum is 3741\n",
      "sum is 3828\n",
      "sum is 3916\n",
      "sum is 4005\n",
      "sum is 4095\n",
      "sum is 4186\n",
      "sum is 4278\n",
      "sum is 4371\n",
      "sum is 4465\n",
      "sum is 4560\n",
      "sum is 4656\n",
      "sum is 4753\n",
      "sum is 4851\n"
     ]
    }
   ],
   "source": [
    "total_sum = 0\n",
    "for i in x:\n",
    "    if i >=1:\n",
    "        total_sum = total_sum + i\n",
    "    print(\"sum is\", total_sum)\n",
    "        "
   ]
  },
  {
   "cell_type": "code",
   "execution_count": 16,
   "id": "9d93b2db",
   "metadata": {},
   "outputs": [
    {
     "name": "stdout",
     "output_type": "stream",
     "text": [
      "Enter the number99\n",
      "Sum is 1\n",
      "Sum is 3\n",
      "Sum is 6\n",
      "Sum is 10\n",
      "Sum is 15\n",
      "Sum is 21\n",
      "Sum is 28\n",
      "Sum is 36\n",
      "Sum is 45\n",
      "Sum is 55\n",
      "Sum is 66\n",
      "Sum is 78\n",
      "Sum is 91\n",
      "Sum is 105\n",
      "Sum is 120\n",
      "Sum is 136\n",
      "Sum is 153\n",
      "Sum is 171\n",
      "Sum is 190\n",
      "Sum is 210\n",
      "Sum is 231\n",
      "Sum is 253\n",
      "Sum is 276\n",
      "Sum is 300\n",
      "Sum is 325\n",
      "Sum is 351\n",
      "Sum is 378\n",
      "Sum is 406\n",
      "Sum is 435\n",
      "Sum is 465\n",
      "Sum is 496\n",
      "Sum is 528\n",
      "Sum is 561\n",
      "Sum is 595\n",
      "Sum is 630\n",
      "Sum is 666\n",
      "Sum is 703\n",
      "Sum is 741\n",
      "Sum is 780\n",
      "Sum is 820\n",
      "Sum is 861\n",
      "Sum is 903\n",
      "Sum is 946\n",
      "Sum is 990\n",
      "Sum is 1035\n",
      "Sum is 1081\n",
      "Sum is 1128\n",
      "Sum is 1176\n",
      "Sum is 1225\n",
      "Sum is 1275\n",
      "Sum is 1326\n",
      "Sum is 1378\n",
      "Sum is 1431\n",
      "Sum is 1485\n",
      "Sum is 1540\n",
      "Sum is 1596\n",
      "Sum is 1653\n",
      "Sum is 1711\n",
      "Sum is 1770\n",
      "Sum is 1830\n",
      "Sum is 1891\n",
      "Sum is 1953\n",
      "Sum is 2016\n",
      "Sum is 2080\n",
      "Sum is 2145\n",
      "Sum is 2211\n",
      "Sum is 2278\n",
      "Sum is 2346\n",
      "Sum is 2415\n",
      "Sum is 2485\n",
      "Sum is 2556\n",
      "Sum is 2628\n",
      "Sum is 2701\n",
      "Sum is 2775\n",
      "Sum is 2850\n",
      "Sum is 2926\n",
      "Sum is 3003\n",
      "Sum is 3081\n",
      "Sum is 3160\n",
      "Sum is 3240\n",
      "Sum is 3321\n",
      "Sum is 3403\n",
      "Sum is 3486\n",
      "Sum is 3570\n",
      "Sum is 3655\n",
      "Sum is 3741\n",
      "Sum is 3828\n",
      "Sum is 3916\n",
      "Sum is 4005\n",
      "Sum is 4095\n",
      "Sum is 4186\n",
      "Sum is 4278\n",
      "Sum is 4371\n",
      "Sum is 4465\n",
      "Sum is 4560\n",
      "Sum is 4656\n",
      "Sum is 4753\n",
      "Sum is 4851\n",
      "Sum is 4950\n"
     ]
    }
   ],
   "source": [
    "s = 0\n",
    "n = int(input(\"Enter the number\"))\n",
    "for i in range(1, n+1):\n",
    "    s = s + i\n",
    "    print(\"Sum is\", s)"
   ]
  },
  {
   "cell_type": "code",
   "execution_count": 19,
   "id": "5f628c7f",
   "metadata": {},
   "outputs": [
    {
     "name": "stdout",
     "output_type": "stream",
     "text": [
      "17\n",
      "34\n",
      "51\n",
      "68\n",
      "85\n",
      "102\n",
      "119\n",
      "136\n",
      "153\n",
      "170\n"
     ]
    }
   ],
   "source": [
    "n = 17\n",
    "for i in range(1, 11, 1):\n",
    "    product = n*i\n",
    "    print(product)"
   ]
  },
  {
   "cell_type": "code",
   "execution_count": 21,
   "id": "e85cb8c0",
   "metadata": {},
   "outputs": [
    {
     "data": {
      "text/plain": [
       "[(0, 0),\n",
       " (1, 2),\n",
       " (2, 4),\n",
       " (3, 6),\n",
       " (4, 8),\n",
       " (5, 10),\n",
       " (6, 12),\n",
       " (7, 14),\n",
       " (8, 16),\n",
       " (9, 18),\n",
       " (10, 20),\n",
       " (11, 22),\n",
       " (12, 24),\n",
       " (13, 26),\n",
       " (14, 28),\n",
       " (15, 30),\n",
       " (16, 32),\n",
       " (17, 34),\n",
       " (18, 36),\n",
       " (19, 38),\n",
       " (20, 40),\n",
       " (21, 42),\n",
       " (22, 44),\n",
       " (23, 46),\n",
       " (24, 48),\n",
       " (25, 50),\n",
       " (26, 52),\n",
       " (27, 54),\n",
       " (28, 56),\n",
       " (29, 58),\n",
       " (30, 60),\n",
       " (31, 62),\n",
       " (32, 64),\n",
       " (33, 66),\n",
       " (34, 68),\n",
       " (35, 70),\n",
       " (36, 72),\n",
       " (37, 74),\n",
       " (38, 76),\n",
       " (39, 78),\n",
       " (40, 80),\n",
       " (41, 82),\n",
       " (42, 84),\n",
       " (43, 86),\n",
       " (44, 88),\n",
       " (45, 90),\n",
       " (46, 92),\n",
       " (47, 94),\n",
       " (48, 96),\n",
       " (49, 98),\n",
       " (50, 100),\n",
       " (51, 102),\n",
       " (52, 104),\n",
       " (53, 106),\n",
       " (54, 108),\n",
       " (55, 110),\n",
       " (56, 112),\n",
       " (57, 114),\n",
       " (58, 116),\n",
       " (59, 118),\n",
       " (60, 120)]"
      ]
     },
     "execution_count": 21,
     "metadata": {},
     "output_type": "execute_result"
    }
   ],
   "source": [
    "[(x, x*2) for x in range(61)]"
   ]
  },
  {
   "cell_type": "code",
   "execution_count": 23,
   "id": "9747e494",
   "metadata": {},
   "outputs": [
    {
     "data": {
      "text/plain": [
       "['banana', 'loganberrry', 'passionfruit']"
      ]
     },
     "execution_count": 23,
     "metadata": {},
     "output_type": "execute_result"
    }
   ],
   "source": [
    "fresh_fruit = ['banana', 'loganberrry', 'passionfruit']\n",
    "[weapon.strip() for weapon in fresh_fruit]"
   ]
  },
  {
   "cell_type": "code",
   "execution_count": 5,
   "id": "a15f0e24",
   "metadata": {},
   "outputs": [
    {
     "name": "stdout",
     "output_type": "stream",
     "text": [
      "p\n",
      "r\n",
      "a\n",
      "s\n",
      "h\n",
      "a\n",
      "The end\n"
     ]
    }
   ],
   "source": [
    "#break and continue\n",
    "for val in \"prashant\":\n",
    "    if val == \"n\":\n",
    "        break\n",
    "    print(val)\n",
    "print(\"The end\")"
   ]
  },
  {
   "cell_type": "code",
   "execution_count": 9,
   "id": "db8fef34",
   "metadata": {},
   "outputs": [
    {
     "name": "stdout",
     "output_type": "stream",
     "text": [
      "s\n",
      "t\n",
      "r\n",
      "n\n",
      "g\n",
      "e\n",
      "The end\n"
     ]
    }
   ],
   "source": [
    "for i in \"stringexample\":\n",
    "    if i == \"i\":\n",
    "        continue\n",
    "    else:\n",
    "        if i ==\"x\":\n",
    "            break\n",
    "        print(i)\n",
    "        \n",
    "print(\"The end\")"
   ]
  },
  {
   "cell_type": "code",
   "execution_count": 10,
   "id": "b0fc6bc0",
   "metadata": {},
   "outputs": [],
   "source": [
    "def greet (name, msg):\n",
    "    print(\"HEloo\", 'name+', 'msg+')"
   ]
  },
  {
   "cell_type": "code",
   "execution_count": 11,
   "id": "38387781",
   "metadata": {},
   "outputs": [
    {
     "name": "stdout",
     "output_type": "stream",
     "text": [
      "HEloo name+ msg+\n"
     ]
    }
   ],
   "source": [
    "greet (\"prashant\", \"morning\")"
   ]
  },
  {
   "cell_type": "code",
   "execution_count": 13,
   "id": "63b69dbd",
   "metadata": {},
   "outputs": [],
   "source": [
    "def absolute_value(num):\n",
    "    if num>0:\n",
    "        return num\n",
    "    else:\n",
    "        return -num"
   ]
  },
  {
   "cell_type": "code",
   "execution_count": 14,
   "id": "6b39107d",
   "metadata": {},
   "outputs": [
    {
     "data": {
      "text/plain": [
       "40"
      ]
     },
     "execution_count": 14,
     "metadata": {},
     "output_type": "execute_result"
    }
   ],
   "source": [
    "absolute_value(40)"
   ]
  },
  {
   "cell_type": "code",
   "execution_count": 15,
   "id": "54aacfe2",
   "metadata": {},
   "outputs": [
    {
     "data": {
      "text/plain": [
       "509"
      ]
     },
     "execution_count": 15,
     "metadata": {},
     "output_type": "execute_result"
    }
   ],
   "source": [
    "absolute_value(-509)"
   ]
  },
  {
   "cell_type": "code",
   "execution_count": 18,
   "id": "65975fb7",
   "metadata": {},
   "outputs": [],
   "source": [
    "# write a function to multiply two numbers\n",
    "\n",
    "def multiply(x, y):\n",
    "    return x*y\n",
    "\n"
   ]
  },
  {
   "cell_type": "code",
   "execution_count": 19,
   "id": "a02dffbf",
   "metadata": {},
   "outputs": [
    {
     "data": {
      "text/plain": [
       "800"
      ]
     },
     "execution_count": 19,
     "metadata": {},
     "output_type": "execute_result"
    }
   ],
   "source": [
    "multiply(20, 40)"
   ]
  },
  {
   "cell_type": "code",
   "execution_count": 20,
   "id": "87d23524",
   "metadata": {},
   "outputs": [
    {
     "data": {
      "text/plain": [
       "9574800"
      ]
     },
     "execution_count": 20,
     "metadata": {},
     "output_type": "execute_result"
    }
   ],
   "source": [
    "multiply(200, 47874)"
   ]
  },
  {
   "cell_type": "code",
   "execution_count": 21,
   "id": "5e761ec4",
   "metadata": {},
   "outputs": [],
   "source": [
    "def divide(x, y):\n",
    "    if x>y:\n",
    "        return(x/y)\n",
    "    else:\n",
    "        print(\"Denominator is greater than numerator\")"
   ]
  },
  {
   "cell_type": "code",
   "execution_count": 23,
   "id": "df0c04fc",
   "metadata": {},
   "outputs": [
    {
     "data": {
      "text/plain": [
       "10.0"
      ]
     },
     "execution_count": 23,
     "metadata": {},
     "output_type": "execute_result"
    }
   ],
   "source": [
    "divide(20, 2)"
   ]
  },
  {
   "cell_type": "code",
   "execution_count": 24,
   "id": "6fcf9e6c",
   "metadata": {},
   "outputs": [
    {
     "data": {
      "text/plain": [
       "10.0"
      ]
     },
     "execution_count": 24,
     "metadata": {},
     "output_type": "execute_result"
    }
   ],
   "source": [
    "divide(200, 20)"
   ]
  },
  {
   "cell_type": "code",
   "execution_count": 26,
   "id": "8bee93e5",
   "metadata": {},
   "outputs": [
    {
     "data": {
      "text/plain": [
       "8.627118644067796"
      ]
     },
     "execution_count": 26,
     "metadata": {},
     "output_type": "execute_result"
    }
   ],
   "source": [
    "divide(509, 59)"
   ]
  },
  {
   "cell_type": "code",
   "execution_count": 27,
   "id": "de5ce8d0",
   "metadata": {},
   "outputs": [
    {
     "name": "stdout",
     "output_type": "stream",
     "text": [
      "Denominator is greater than numerator\n"
     ]
    }
   ],
   "source": [
    "divide(59, 509)"
   ]
  },
  {
   "cell_type": "code",
   "execution_count": 35,
   "id": "e4314e9a",
   "metadata": {},
   "outputs": [],
   "source": [
    "squares = list(map(lambda x: (x**2)**8, range(1, 9)))"
   ]
  },
  {
   "cell_type": "code",
   "execution_count": 36,
   "id": "c1eccd65",
   "metadata": {},
   "outputs": [
    {
     "data": {
      "text/plain": [
       "[1,\n",
       " 65536,\n",
       " 43046721,\n",
       " 4294967296,\n",
       " 152587890625,\n",
       " 2821109907456,\n",
       " 33232930569601,\n",
       " 281474976710656]"
      ]
     },
     "execution_count": 36,
     "metadata": {},
     "output_type": "execute_result"
    }
   ],
   "source": [
    "squares"
   ]
  },
  {
   "cell_type": "code",
   "execution_count": 38,
   "id": "b162ec31",
   "metadata": {},
   "outputs": [],
   "source": [
    "def cube(x):\n",
    "    return x*x**2"
   ]
  },
  {
   "cell_type": "code",
   "execution_count": 39,
   "id": "afe1c142",
   "metadata": {},
   "outputs": [
    {
     "data": {
      "text/plain": [
       "27"
      ]
     },
     "execution_count": 39,
     "metadata": {},
     "output_type": "execute_result"
    }
   ],
   "source": [
    "cube(3)"
   ]
  },
  {
   "cell_type": "code",
   "execution_count": 40,
   "id": "b9c173e2",
   "metadata": {},
   "outputs": [
    {
     "data": {
      "text/plain": [
       "8"
      ]
     },
     "execution_count": 40,
     "metadata": {},
     "output_type": "execute_result"
    }
   ],
   "source": [
    "cube(2)"
   ]
  },
  {
   "cell_type": "code",
   "execution_count": 44,
   "id": "16d10a79",
   "metadata": {},
   "outputs": [],
   "source": [
    "cube = list(map(lambda x: (x*x**2), range(1, 9)))"
   ]
  },
  {
   "cell_type": "code",
   "execution_count": 45,
   "id": "62e69a11",
   "metadata": {},
   "outputs": [
    {
     "data": {
      "text/plain": [
       "[1, 8, 27, 64, 125, 216, 343, 512]"
      ]
     },
     "execution_count": 45,
     "metadata": {},
     "output_type": "execute_result"
    }
   ],
   "source": [
    "cube"
   ]
  },
  {
   "cell_type": "code",
   "execution_count": 46,
   "id": "d0e45aac",
   "metadata": {},
   "outputs": [
    {
     "name": "stdout",
     "output_type": "stream",
     "text": [
      "[True, False, True, True, True, True, False, True, True, True]\n"
     ]
    }
   ],
   "source": [
    "seq = [10, 2, 8, 7, 48, 47, 0, 47, 12, 39]\n",
    "fil_resul = list(map(lambda x: x>4, seq))\n",
    "print(list(fil_resul))"
   ]
  },
  {
   "cell_type": "code",
   "execution_count": null,
   "id": "34e2eafa",
   "metadata": {},
   "outputs": [],
   "source": [
    "def mulandsum(x, y):\n",
    "    if x "
   ]
  },
  {
   "cell_type": "code",
   "execution_count": 2,
   "id": "902e2a54",
   "metadata": {},
   "outputs": [],
   "source": [
    "def firstandlast(x):\n",
    "    first = x[0]\n",
    "    last = x[-1]\n",
    "    if first == last:\n",
    "        return True\n",
    "    else:\n",
    "        return False\n",
    "        \n",
    "        "
   ]
  },
  {
   "cell_type": "code",
   "execution_count": 3,
   "id": "f105ef1d",
   "metadata": {},
   "outputs": [
    {
     "data": {
      "text/plain": [
       "False"
      ]
     },
     "execution_count": 3,
     "metadata": {},
     "output_type": "execute_result"
    }
   ],
   "source": [
    "firstandlast(\"himanshuanndasn\")"
   ]
  },
  {
   "cell_type": "code",
   "execution_count": 4,
   "id": "b38bfb67",
   "metadata": {},
   "outputs": [
    {
     "data": {
      "text/plain": [
       "True"
      ]
     },
     "execution_count": 4,
     "metadata": {},
     "output_type": "execute_result"
    }
   ],
   "source": [
    "firstandlast(\"ksdjgoaidhgok\")"
   ]
  },
  {
   "cell_type": "code",
   "execution_count": 5,
   "id": "6040d9ce",
   "metadata": {},
   "outputs": [],
   "source": [
    "x = ['ramr', 'randur', 'randkurg', 'first', 'priyanship']"
   ]
  },
  {
   "cell_type": "code",
   "execution_count": 6,
   "id": "ad99b988",
   "metadata": {},
   "outputs": [
    {
     "data": {
      "text/plain": [
       "False"
      ]
     },
     "execution_count": 6,
     "metadata": {},
     "output_type": "execute_result"
    }
   ],
   "source": [
    "firstandlast(x)"
   ]
  },
  {
   "cell_type": "code",
   "execution_count": null,
   "id": "ba8f2f5f",
   "metadata": {},
   "outputs": [],
   "source": []
  }
 ],
 "metadata": {
  "kernelspec": {
   "display_name": "Python 3 (ipykernel)",
   "language": "python",
   "name": "python3"
  },
  "language_info": {
   "codemirror_mode": {
    "name": "ipython",
    "version": 3
   },
   "file_extension": ".py",
   "mimetype": "text/x-python",
   "name": "python",
   "nbconvert_exporter": "python",
   "pygments_lexer": "ipython3",
   "version": "3.9.12"
  }
 },
 "nbformat": 4,
 "nbformat_minor": 5
}
