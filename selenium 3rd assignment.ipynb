{
 "cells": [
  {
   "cell_type": "code",
   "execution_count": 1,
   "id": "d5130297",
   "metadata": {},
   "outputs": [],
   "source": [
    "import selenium\n",
    "from selenium import webdriver\n",
    "import pandas as pd\n",
    "import warnings\n",
    "warnings.filterwarnings(\"ignore\")\n",
    "from selenium.webdriver.common.by import By\n",
    "from selenium.webdriver.common.keys import Keys\n",
    "from selenium.common.exceptions import StaleElementReferenceException, NoSuchElementException\n",
    "from selenium.webdriver.common.by import By"
   ]
  },
  {
   "cell_type": "code",
   "execution_count": 2,
   "id": "c7118b9d",
   "metadata": {},
   "outputs": [],
   "source": [
    "driver = webdriver.Chrome(r\"C:\\Users\\ANSH\\chromedriver_win32 (1)\\chromedriver.exe\")"
   ]
  },
  {
   "cell_type": "code",
   "execution_count": 5,
   "id": "598a5dce",
   "metadata": {},
   "outputs": [],
   "source": [
    "url = 'https://www.hostelworld.com/'\n",
    "driver.get(url)"
   ]
  },
  {
   "cell_type": "code",
   "execution_count": 5,
   "id": "1614c3cc",
   "metadata": {},
   "outputs": [
    {
     "data": {
      "text/plain": [
       "<selenium.webdriver.remote.webelement.WebElement (session=\"93bff83e138e6ecb7436b835122c7cae\", element=\"343894df-720f-4171-ac0d-452781f783c1\")>"
      ]
     },
     "execution_count": 5,
     "metadata": {},
     "output_type": "execute_result"
    }
   ],
   "source": [
    "search_locn = driver.find_element(By.XPATH, \"/html/body/div[3]/div/div/div[2]/div[1]/div/div/div[4]/div/div[2]/div/div[1]/div/div/div/input\")\n",
    "search_locn"
   ]
  },
  {
   "cell_type": "code",
   "execution_count": 6,
   "id": "05b88c04",
   "metadata": {},
   "outputs": [],
   "source": [
    "search_locn.send_keys('London')"
   ]
  },
  {
   "cell_type": "code",
   "execution_count": 7,
   "id": "804b232b",
   "metadata": {},
   "outputs": [
    {
     "data": {
      "text/plain": [
       "<selenium.webdriver.remote.webelement.WebElement (session=\"93bff83e138e6ecb7436b835122c7cae\", element=\"1b4a7fbd-6719-4007-b553-b20ae11f40af\")>"
      ]
     },
     "execution_count": 7,
     "metadata": {},
     "output_type": "execute_result"
    }
   ],
   "source": [
    "search_btn = driver.find_element(By.XPATH, \"/html/body/div[3]/div/div/div[2]/div[1]/div/div/div[4]/div/div[2]/div/div[5]/button\")\n",
    "search_btn   "
   ]
  },
  {
   "cell_type": "code",
   "execution_count": 9,
   "id": "7ca8c4d3",
   "metadata": {},
   "outputs": [
    {
     "ename": "StaleElementReferenceException",
     "evalue": "Message: stale element reference: element is not attached to the page document\n  (Session info: chrome=105.0.5195.127)\nStacktrace:\nBacktrace:\n\tOrdinal0 [0x00AFDF13+2219795]\n\tOrdinal0 [0x00A92841+1779777]\n\tOrdinal0 [0x009A423D+803389]\n\tOrdinal0 [0x009A6D04+814340]\n\tOrdinal0 [0x009A6BC2+814018]\n\tOrdinal0 [0x009A6E50+814672]\n\tOrdinal0 [0x009D4A2E+1002030]\n\tOrdinal0 [0x009C99ED+956909]\n\tOrdinal0 [0x009EE7FC+1107964]\n\tOrdinal0 [0x009C94B4+955572]\n\tOrdinal0 [0x009EEA14+1108500]\n\tOrdinal0 [0x009FF192+1175954]\n\tOrdinal0 [0x009EE616+1107478]\n\tOrdinal0 [0x009C7F89+950153]\n\tOrdinal0 [0x009C8F56+954198]\n\tGetHandleVerifier [0x00DF2CB2+3040210]\n\tGetHandleVerifier [0x00DE2BB4+2974420]\n\tGetHandleVerifier [0x00B96A0A+565546]\n\tGetHandleVerifier [0x00B95680+560544]\n\tOrdinal0 [0x00A99A5C+1808988]\n\tOrdinal0 [0x00A9E3A8+1827752]\n\tOrdinal0 [0x00A9E495+1827989]\n\tOrdinal0 [0x00AA80A4+1867940]\n\tBaseThreadInitThunk [0x76AEFA29+25]\n\tRtlGetAppContainerNamedObjectPath [0x77927B5E+286]\n\tRtlGetAppContainerNamedObjectPath [0x77927B2E+238]\n",
     "output_type": "error",
     "traceback": [
      "\u001b[1;31m---------------------------------------------------------------------------\u001b[0m",
      "\u001b[1;31mStaleElementReferenceException\u001b[0m            Traceback (most recent call last)",
      "Input \u001b[1;32mIn [9]\u001b[0m, in \u001b[0;36m<cell line: 1>\u001b[1;34m()\u001b[0m\n\u001b[1;32m----> 1\u001b[0m \u001b[43msearch_btn\u001b[49m\u001b[38;5;241;43m.\u001b[39;49m\u001b[43mclick\u001b[49m\u001b[43m(\u001b[49m\u001b[43m)\u001b[49m\n",
      "File \u001b[1;32m~\\anaconda3\\lib\\site-packages\\selenium\\webdriver\\remote\\webelement.py:88\u001b[0m, in \u001b[0;36mWebElement.click\u001b[1;34m(self)\u001b[0m\n\u001b[0;32m     86\u001b[0m \u001b[38;5;28;01mdef\u001b[39;00m \u001b[38;5;21mclick\u001b[39m(\u001b[38;5;28mself\u001b[39m) \u001b[38;5;241m-\u001b[39m\u001b[38;5;241m>\u001b[39m \u001b[38;5;28;01mNone\u001b[39;00m:\n\u001b[0;32m     87\u001b[0m     \u001b[38;5;124;03m\"\"\"Clicks the element.\"\"\"\u001b[39;00m\n\u001b[1;32m---> 88\u001b[0m     \u001b[38;5;28;43mself\u001b[39;49m\u001b[38;5;241;43m.\u001b[39;49m\u001b[43m_execute\u001b[49m\u001b[43m(\u001b[49m\u001b[43mCommand\u001b[49m\u001b[38;5;241;43m.\u001b[39;49m\u001b[43mCLICK_ELEMENT\u001b[49m\u001b[43m)\u001b[49m\n",
      "File \u001b[1;32m~\\anaconda3\\lib\\site-packages\\selenium\\webdriver\\remote\\webelement.py:396\u001b[0m, in \u001b[0;36mWebElement._execute\u001b[1;34m(self, command, params)\u001b[0m\n\u001b[0;32m    394\u001b[0m     params \u001b[38;5;241m=\u001b[39m {}\n\u001b[0;32m    395\u001b[0m params[\u001b[38;5;124m'\u001b[39m\u001b[38;5;124mid\u001b[39m\u001b[38;5;124m'\u001b[39m] \u001b[38;5;241m=\u001b[39m \u001b[38;5;28mself\u001b[39m\u001b[38;5;241m.\u001b[39m_id\n\u001b[1;32m--> 396\u001b[0m \u001b[38;5;28;01mreturn\u001b[39;00m \u001b[38;5;28;43mself\u001b[39;49m\u001b[38;5;241;43m.\u001b[39;49m\u001b[43m_parent\u001b[49m\u001b[38;5;241;43m.\u001b[39;49m\u001b[43mexecute\u001b[49m\u001b[43m(\u001b[49m\u001b[43mcommand\u001b[49m\u001b[43m,\u001b[49m\u001b[43m \u001b[49m\u001b[43mparams\u001b[49m\u001b[43m)\u001b[49m\n",
      "File \u001b[1;32m~\\anaconda3\\lib\\site-packages\\selenium\\webdriver\\remote\\webdriver.py:435\u001b[0m, in \u001b[0;36mWebDriver.execute\u001b[1;34m(self, driver_command, params)\u001b[0m\n\u001b[0;32m    433\u001b[0m response \u001b[38;5;241m=\u001b[39m \u001b[38;5;28mself\u001b[39m\u001b[38;5;241m.\u001b[39mcommand_executor\u001b[38;5;241m.\u001b[39mexecute(driver_command, params)\n\u001b[0;32m    434\u001b[0m \u001b[38;5;28;01mif\u001b[39;00m response:\n\u001b[1;32m--> 435\u001b[0m     \u001b[38;5;28;43mself\u001b[39;49m\u001b[38;5;241;43m.\u001b[39;49m\u001b[43merror_handler\u001b[49m\u001b[38;5;241;43m.\u001b[39;49m\u001b[43mcheck_response\u001b[49m\u001b[43m(\u001b[49m\u001b[43mresponse\u001b[49m\u001b[43m)\u001b[49m\n\u001b[0;32m    436\u001b[0m     response[\u001b[38;5;124m'\u001b[39m\u001b[38;5;124mvalue\u001b[39m\u001b[38;5;124m'\u001b[39m] \u001b[38;5;241m=\u001b[39m \u001b[38;5;28mself\u001b[39m\u001b[38;5;241m.\u001b[39m_unwrap_value(\n\u001b[0;32m    437\u001b[0m         response\u001b[38;5;241m.\u001b[39mget(\u001b[38;5;124m'\u001b[39m\u001b[38;5;124mvalue\u001b[39m\u001b[38;5;124m'\u001b[39m, \u001b[38;5;28;01mNone\u001b[39;00m))\n\u001b[0;32m    438\u001b[0m     \u001b[38;5;28;01mreturn\u001b[39;00m response\n",
      "File \u001b[1;32m~\\anaconda3\\lib\\site-packages\\selenium\\webdriver\\remote\\errorhandler.py:247\u001b[0m, in \u001b[0;36mErrorHandler.check_response\u001b[1;34m(self, response)\u001b[0m\n\u001b[0;32m    245\u001b[0m         alert_text \u001b[38;5;241m=\u001b[39m value[\u001b[38;5;124m'\u001b[39m\u001b[38;5;124malert\u001b[39m\u001b[38;5;124m'\u001b[39m]\u001b[38;5;241m.\u001b[39mget(\u001b[38;5;124m'\u001b[39m\u001b[38;5;124mtext\u001b[39m\u001b[38;5;124m'\u001b[39m)\n\u001b[0;32m    246\u001b[0m     \u001b[38;5;28;01mraise\u001b[39;00m exception_class(message, screen, stacktrace, alert_text)  \u001b[38;5;66;03m# type: ignore[call-arg]  # mypy is not smart enough here\u001b[39;00m\n\u001b[1;32m--> 247\u001b[0m \u001b[38;5;28;01mraise\u001b[39;00m exception_class(message, screen, stacktrace)\n",
      "\u001b[1;31mStaleElementReferenceException\u001b[0m: Message: stale element reference: element is not attached to the page document\n  (Session info: chrome=105.0.5195.127)\nStacktrace:\nBacktrace:\n\tOrdinal0 [0x00AFDF13+2219795]\n\tOrdinal0 [0x00A92841+1779777]\n\tOrdinal0 [0x009A423D+803389]\n\tOrdinal0 [0x009A6D04+814340]\n\tOrdinal0 [0x009A6BC2+814018]\n\tOrdinal0 [0x009A6E50+814672]\n\tOrdinal0 [0x009D4A2E+1002030]\n\tOrdinal0 [0x009C99ED+956909]\n\tOrdinal0 [0x009EE7FC+1107964]\n\tOrdinal0 [0x009C94B4+955572]\n\tOrdinal0 [0x009EEA14+1108500]\n\tOrdinal0 [0x009FF192+1175954]\n\tOrdinal0 [0x009EE616+1107478]\n\tOrdinal0 [0x009C7F89+950153]\n\tOrdinal0 [0x009C8F56+954198]\n\tGetHandleVerifier [0x00DF2CB2+3040210]\n\tGetHandleVerifier [0x00DE2BB4+2974420]\n\tGetHandleVerifier [0x00B96A0A+565546]\n\tGetHandleVerifier [0x00B95680+560544]\n\tOrdinal0 [0x00A99A5C+1808988]\n\tOrdinal0 [0x00A9E3A8+1827752]\n\tOrdinal0 [0x00A9E495+1827989]\n\tOrdinal0 [0x00AA80A4+1867940]\n\tBaseThreadInitThunk [0x76AEFA29+25]\n\tRtlGetAppContainerNamedObjectPath [0x77927B5E+286]\n\tRtlGetAppContainerNamedObjectPath [0x77927B2E+238]\n"
     ]
    }
   ],
   "source": [
    "search_btn.click()"
   ]
  },
  {
   "cell_type": "code",
   "execution_count": 12,
   "id": "696ef680",
   "metadata": {},
   "outputs": [
    {
     "data": {
      "text/plain": [
       "30"
      ]
     },
     "execution_count": 12,
     "metadata": {},
     "output_type": "execute_result"
    }
   ],
   "source": [
    "hostel_name = driver.find_elements(By.XPATH, \"//h2[@Class = 'title title-6']\")\n",
    "len(hostel_name)"
   ]
  },
  {
   "cell_type": "code",
   "execution_count": 13,
   "id": "8a0af644",
   "metadata": {},
   "outputs": [],
   "source": [
    "name = []\n",
    "\n",
    "for i in hostel_name:\n",
    "    hostel_name = i.text\n",
    "    name.append(hostel_name)"
   ]
  },
  {
   "cell_type": "code",
   "execution_count": 14,
   "id": "14da746e",
   "metadata": {},
   "outputs": [
    {
     "data": {
      "text/plain": [
       "[\"Wombat's City Hostel London\",\n",
       " \"St Christopher's Village\",\n",
       " 'Palmers Lodge - Swiss Cottage',\n",
       " 'Urbany Hostel London',\n",
       " 'Generator London',\n",
       " 'Safestay London Elephant & Castle',\n",
       " 'Safestay London Kensington Holland Park',\n",
       " 'Pickwick Hall',\n",
       " 'Phoenix Hostel',\n",
       " 'London Backpackers',\n",
       " 'YHA London Oxford Street',\n",
       " \"St Christopher's Camden\",\n",
       " \"St Christopher's Hammersmith\",\n",
       " 'Barmy Badger Backpackers',\n",
       " 'NX London Hostel',\n",
       " 'Destinations Hostels @ The Gallery',\n",
       " 'Prime Backpackers Angel',\n",
       " 'Saint James Backpackers',\n",
       " 'Queen Elizabeth Chelsea',\n",
       " 'PubLove @ The Steam Engine, Waterloo',\n",
       " \"St Christopher's Greenwich\",\n",
       " \"St Christopher's Shepherds Bush\",\n",
       " 'Selina Camden',\n",
       " 'Strand Continental',\n",
       " 'PubLove @ The White Ferry, Victoria',\n",
       " 'Kensal Green Backpackers',\n",
       " 'The Backpackshack',\n",
       " 'London Waterloo Hostel',\n",
       " 'Hootananny Hostel',\n",
       " 'PubLove @ The Crown, Battersea']"
      ]
     },
     "execution_count": 14,
     "metadata": {},
     "output_type": "execute_result"
    }
   ],
   "source": [
    "name"
   ]
  },
  {
   "cell_type": "code",
   "execution_count": 15,
   "id": "ecdac842",
   "metadata": {},
   "outputs": [
    {
     "data": {
      "text/plain": [
       "29"
      ]
     },
     "execution_count": 15,
     "metadata": {},
     "output_type": "execute_result"
    }
   ],
   "source": [
    "rate = driver.find_elements(By.XPATH, \"//div[@Class = 'score orange big']\")\n",
    "len(rate)"
   ]
  },
  {
   "cell_type": "code",
   "execution_count": 23,
   "id": "ea0073c8",
   "metadata": {},
   "outputs": [
    {
     "data": {
      "text/plain": [
       "54"
      ]
     },
     "execution_count": 23,
     "metadata": {},
     "output_type": "execute_result"
    }
   ],
   "source": [
    "facility = driver.find_elements(By.XPATH, \"//span[@Class = 'label']\")\n",
    "len(facility)"
   ]
  },
  {
   "cell_type": "code",
   "execution_count": 17,
   "id": "2f1a029e",
   "metadata": {},
   "outputs": [],
   "source": [
    "facility_p = []\n",
    "\n",
    "for i in facility:\n",
    "    facility = i.text\n",
    "    facility_p.append(facility)"
   ]
  },
  {
   "cell_type": "code",
   "execution_count": 19,
   "id": "54b24289",
   "metadata": {},
   "outputs": [
    {
     "data": {
      "text/plain": [
       "['Free WiFi',\n",
       " 'Follows Covid-19 sanitation guidance',\n",
       " 'Free WiFi',\n",
       " 'Follows Covid-19 sanitation guidance',\n",
       " 'Free WiFi',\n",
       " 'Follows Covid-19 sanitation guidance',\n",
       " 'Free WiFi',\n",
       " 'Follows Covid-19 sanitation guidance',\n",
       " 'Free WiFi',\n",
       " 'Follows Covid-19 sanitation guidance',\n",
       " 'Free WiFi',\n",
       " 'Follows Covid-19 sanitation guidance',\n",
       " 'Free WiFi',\n",
       " 'Free Breakfast',\n",
       " 'Free WiFi',\n",
       " 'Follows Covid-19 sanitation guidance',\n",
       " 'Free WiFi',\n",
       " 'Follows Covid-19 sanitation guidance',\n",
       " 'Free WiFi',\n",
       " 'Follows Covid-19 sanitation guidance',\n",
       " 'Free WiFi',\n",
       " 'Follows Covid-19 sanitation guidance',\n",
       " 'Free WiFi',\n",
       " 'Follows Covid-19 sanitation guidance',\n",
       " 'Free WiFi',\n",
       " 'Free Breakfast',\n",
       " 'Free WiFi',\n",
       " 'Free Breakfast',\n",
       " 'Free WiFi',\n",
       " 'Free Breakfast',\n",
       " 'Free WiFi',\n",
       " 'Follows Covid-19 sanitation guidance',\n",
       " 'Free WiFi',\n",
       " 'Free Breakfast',\n",
       " 'Follows Covid-19 sanitation guidance',\n",
       " 'Free WiFi',\n",
       " 'Free WiFi',\n",
       " 'Follows Covid-19 sanitation guidance',\n",
       " 'Free WiFi',\n",
       " 'Follows Covid-19 sanitation guidance',\n",
       " 'Free WiFi',\n",
       " 'Follows Covid-19 sanitation guidance',\n",
       " 'Free WiFi',\n",
       " 'Follows Covid-19 sanitation guidance',\n",
       " 'Free WiFi',\n",
       " 'Follows Covid-19 sanitation guidance',\n",
       " 'Follows Covid-19 sanitation guidance',\n",
       " 'Free WiFi',\n",
       " 'Free WiFi',\n",
       " 'Follows Covid-19 sanitation guidance',\n",
       " 'Free WiFi',\n",
       " 'Free Breakfast',\n",
       " 'Free WiFi',\n",
       " 'Follows Covid-19 sanitation guidance']"
      ]
     },
     "execution_count": 19,
     "metadata": {},
     "output_type": "execute_result"
    }
   ],
   "source": [
    "facility_p"
   ]
  },
  {
   "cell_type": "code",
   "execution_count": null,
   "id": "5e631b02",
   "metadata": {},
   "outputs": [],
   "source": [
    "f = facilkty"
   ]
  },
  {
   "cell_type": "code",
   "execution_count": null,
   "id": "5ebe46ad",
   "metadata": {},
   "outputs": [],
   "source": []
  },
  {
   "cell_type": "code",
   "execution_count": null,
   "id": "ba25ae4a",
   "metadata": {},
   "outputs": [],
   "source": []
  },
  {
   "cell_type": "code",
   "execution_count": null,
   "id": "c7e8ed89",
   "metadata": {},
   "outputs": [],
   "source": []
  },
  {
   "cell_type": "code",
   "execution_count": null,
   "id": "bad021fd",
   "metadata": {},
   "outputs": [],
   "source": []
  },
  {
   "cell_type": "code",
   "execution_count": null,
   "id": "a3cc2d44",
   "metadata": {},
   "outputs": [],
   "source": []
  },
  {
   "cell_type": "code",
   "execution_count": null,
   "id": "1486e1b4",
   "metadata": {},
   "outputs": [],
   "source": []
  },
  {
   "cell_type": "code",
   "execution_count": null,
   "id": "b620b2a1",
   "metadata": {},
   "outputs": [],
   "source": []
  },
  {
   "cell_type": "code",
   "execution_count": 31,
   "id": "b3a75b39",
   "metadata": {},
   "outputs": [],
   "source": [
    "location = driver.find_elements(By.XPATH, \"//span[@Class = 'description']\")"
   ]
  },
  {
   "cell_type": "code",
   "execution_count": 32,
   "id": "db7cb970",
   "metadata": {},
   "outputs": [
    {
     "data": {
      "text/plain": [
       "27"
      ]
     },
     "execution_count": 32,
     "metadata": {},
     "output_type": "execute_result"
    }
   ],
   "source": [
    "len(location)"
   ]
  },
  {
   "cell_type": "code",
   "execution_count": 35,
   "id": "1beed7c7",
   "metadata": {},
   "outputs": [
    {
     "data": {
      "text/plain": [
       "31"
      ]
     },
     "execution_count": 35,
     "metadata": {},
     "output_type": "execute_result"
    }
   ],
   "source": [
    "price = driver.find_elements(By.XPATH, \"//div[@Class = 'price title-5']\")\n",
    "len(price)"
   ]
  },
  {
   "cell_type": "code",
   "execution_count": 36,
   "id": "3abbcb99",
   "metadata": {},
   "outputs": [
    {
     "data": {
      "text/plain": [
       "42"
      ]
     },
     "execution_count": 36,
     "metadata": {},
     "output_type": "execute_result"
    }
   ],
   "source": [
    "facility = driver.find_elements(By.XPATH, \"//span[@Class = 'label']\")\n",
    "len(facility)"
   ]
  },
  {
   "cell_type": "code",
   "execution_count": 38,
   "id": "44899855",
   "metadata": {},
   "outputs": [
    {
     "data": {
      "text/plain": [
       "22"
      ]
     },
     "execution_count": 38,
     "metadata": {},
     "output_type": "execute_result"
    }
   ],
   "source": [
    "rate = driver.find_elements(By.XPATH, \"//div[@Class = 'score orange big']\")\n",
    "len(rate)"
   ]
  },
  {
   "cell_type": "code",
   "execution_count": 39,
   "id": "e29dca54",
   "metadata": {},
   "outputs": [],
   "source": [
    "rating = []\n",
    "\n",
    "for i in rate:\n",
    "    rate = i.text\n",
    "    rating.append(rate)"
   ]
  },
  {
   "cell_type": "code",
   "execution_count": 40,
   "id": "17a2fae7",
   "metadata": {},
   "outputs": [
    {
     "data": {
      "text/plain": [
       "['8.2',\n",
       " '8.7',\n",
       " '7.8',\n",
       " '9.3',\n",
       " '6.6',\n",
       " '7.3',\n",
       " '8.2',\n",
       " '8.2',\n",
       " '7.8',\n",
       " '7.7',\n",
       " '6.9',\n",
       " '8.3',\n",
       " '8.0',\n",
       " '7.8',\n",
       " '8.5',\n",
       " '7.9',\n",
       " '6.6',\n",
       " '7.0',\n",
       " '9.4',\n",
       " '6.6',\n",
       " '6.6',\n",
       " '8.0']"
      ]
     },
     "execution_count": 40,
     "metadata": {},
     "output_type": "execute_result"
    }
   ],
   "source": [
    "rating"
   ]
  },
  {
   "cell_type": "code",
   "execution_count": 42,
   "id": "89fbf476",
   "metadata": {},
   "outputs": [],
   "source": [
    "review = driver.find_elements(By.XPATH, \"//div[@Class = 'reviews']\")"
   ]
  },
  {
   "cell_type": "code",
   "execution_count": 43,
   "id": "471dc578",
   "metadata": {},
   "outputs": [
    {
     "data": {
      "text/plain": [
       "27"
      ]
     },
     "execution_count": 43,
     "metadata": {},
     "output_type": "execute_result"
    }
   ],
   "source": [
    "len(review)"
   ]
  },
  {
   "cell_type": "code",
   "execution_count": null,
   "id": "f0ac2d42",
   "metadata": {},
   "outputs": [],
   "source": []
  },
  {
   "cell_type": "code",
   "execution_count": null,
   "id": "fde20fc2",
   "metadata": {},
   "outputs": [],
   "source": []
  },
  {
   "cell_type": "code",
   "execution_count": null,
   "id": "e5a87406",
   "metadata": {},
   "outputs": [],
   "source": []
  },
  {
   "cell_type": "code",
   "execution_count": 27,
   "id": "31e13c3f",
   "metadata": {},
   "outputs": [
    {
     "ename": "AttributeError",
     "evalue": "'list' object has no attribute 'text'",
     "output_type": "error",
     "traceback": [
      "\u001b[1;31m---------------------------------------------------------------------------\u001b[0m",
      "\u001b[1;31mAttributeError\u001b[0m                            Traceback (most recent call last)",
      "Input \u001b[1;32mIn [27]\u001b[0m, in \u001b[0;36m<cell line: 1>\u001b[1;34m()\u001b[0m\n\u001b[1;32m----> 1\u001b[0m \u001b[43mhostel_name\u001b[49m\u001b[38;5;241;43m.\u001b[39;49m\u001b[43mtext\u001b[49m()\n",
      "\u001b[1;31mAttributeError\u001b[0m: 'list' object has no attribute 'text'"
     ]
    }
   ],
   "source": [
    "hostel_name.text()"
   ]
  },
  {
   "cell_type": "code",
   "execution_count": 2,
   "id": "ad254ed6",
   "metadata": {},
   "outputs": [],
   "source": [
    "driver = webdriver.Chrome(r\"C:\\Users\\ANSH\\chromedriver_win32 (1)\\chromedriver.exe\")"
   ]
  },
  {
   "cell_type": "code",
   "execution_count": 3,
   "id": "b8e579bc",
   "metadata": {},
   "outputs": [],
   "source": [
    "url = 'https://www.youtube.com/'\n",
    "driver.get(url)"
   ]
  },
  {
   "cell_type": "code",
   "execution_count": 4,
   "id": "a878e510",
   "metadata": {},
   "outputs": [],
   "source": [
    "submit_btn = driver.find_elements(By.XPATH, \"/html/body/ytd-app/div[1]/div/ytd-masthead/div[3]/div[2]/ytd-searchbox/form/div[1]/div[1]/input\")"
   ]
  },
  {
   "cell_type": "code",
   "execution_count": 5,
   "id": "e51b7baa",
   "metadata": {},
   "outputs": [
    {
     "ename": "AttributeError",
     "evalue": "'list' object has no attribute 'send_keys'",
     "output_type": "error",
     "traceback": [
      "\u001b[1;31m---------------------------------------------------------------------------\u001b[0m",
      "\u001b[1;31mAttributeError\u001b[0m                            Traceback (most recent call last)",
      "Input \u001b[1;32mIn [5]\u001b[0m, in \u001b[0;36m<cell line: 1>\u001b[1;34m()\u001b[0m\n\u001b[1;32m----> 1\u001b[0m \u001b[43msubmit_btn\u001b[49m\u001b[38;5;241;43m.\u001b[39;49m\u001b[43msend_keys\u001b[49m(\u001b[38;5;124m'\u001b[39m\u001b[38;5;124mBikesway\u001b[39m\u001b[38;5;124m'\u001b[39m)\n",
      "\u001b[1;31mAttributeError\u001b[0m: 'list' object has no attribute 'send_keys'"
     ]
    }
   ],
   "source": [
    "submit_btn.send_keys('Bikesway')"
   ]
  },
  {
   "cell_type": "code",
   "execution_count": null,
   "id": "afa3a8e1",
   "metadata": {},
   "outputs": [],
   "source": []
  },
  {
   "cell_type": "code",
   "execution_count": 14,
   "id": "ed0ca030",
   "metadata": {},
   "outputs": [
    {
     "ename": "AttributeError",
     "evalue": "'list' object has no attribute 'click'",
     "output_type": "error",
     "traceback": [
      "\u001b[1;31m---------------------------------------------------------------------------\u001b[0m",
      "\u001b[1;31mAttributeError\u001b[0m                            Traceback (most recent call last)",
      "Input \u001b[1;32mIn [14]\u001b[0m, in \u001b[0;36m<cell line: 1>\u001b[1;34m()\u001b[0m\n\u001b[1;32m----> 1\u001b[0m \u001b[43mvideo\u001b[49m\u001b[38;5;241;43m.\u001b[39;49m\u001b[43mclick\u001b[49m()\n",
      "\u001b[1;31mAttributeError\u001b[0m: 'list' object has no attribute 'click'"
     ]
    }
   ],
   "source": [
    "video.click()"
   ]
  },
  {
   "cell_type": "code",
   "execution_count": 6,
   "id": "709ccc74",
   "metadata": {},
   "outputs": [],
   "source": [
    "comments_name = driver.find_elements(By.XPATH, \"//span[@Class = ' style-scope ytd-comment-renderer']\")"
   ]
  },
  {
   "cell_type": "code",
   "execution_count": 12,
   "id": "90e6b982",
   "metadata": {},
   "outputs": [
    {
     "data": {
      "text/plain": [
       "40"
      ]
     },
     "execution_count": 12,
     "metadata": {},
     "output_type": "execute_result"
    }
   ],
   "source": [
    "len(comments_name)"
   ]
  },
  {
   "cell_type": "code",
   "execution_count": 8,
   "id": "5c1dc98c",
   "metadata": {},
   "outputs": [],
   "source": [
    "comments = driver.find_elements(By.XPATH, \"//span[@Class = 'style-scope yt-formatted-string']\")"
   ]
  },
  {
   "cell_type": "code",
   "execution_count": 13,
   "id": "ca424eb6",
   "metadata": {},
   "outputs": [
    {
     "data": {
      "text/plain": [
       "79"
      ]
     },
     "execution_count": 13,
     "metadata": {},
     "output_type": "execute_result"
    }
   ],
   "source": [
    "len(comments)"
   ]
  },
  {
   "cell_type": "code",
   "execution_count": 11,
   "id": "3311a599",
   "metadata": {},
   "outputs": [
    {
     "ename": "StaleElementReferenceException",
     "evalue": "Message: stale element reference: element is not attached to the page document\n  (Session info: chrome=105.0.5195.127)\nStacktrace:\nBacktrace:\n\tOrdinal0 [0x00F9DF13+2219795]\n\tOrdinal0 [0x00F32841+1779777]\n\tOrdinal0 [0x00E4423D+803389]\n\tOrdinal0 [0x00E46D04+814340]\n\tOrdinal0 [0x00E46BC2+814018]\n\tOrdinal0 [0x00E46E50+814672]\n\tOrdinal0 [0x00E6E91F+977183]\n\tOrdinal0 [0x00E8E7FC+1107964]\n\tOrdinal0 [0x00E694B4+955572]\n\tOrdinal0 [0x00E8EA14+1108500]\n\tOrdinal0 [0x00E9F192+1175954]\n\tOrdinal0 [0x00E8E616+1107478]\n\tOrdinal0 [0x00E67F89+950153]\n\tOrdinal0 [0x00E68F56+954198]\n\tGetHandleVerifier [0x01292CB2+3040210]\n\tGetHandleVerifier [0x01282BB4+2974420]\n\tGetHandleVerifier [0x01036A0A+565546]\n\tGetHandleVerifier [0x01035680+560544]\n\tOrdinal0 [0x00F39A5C+1808988]\n\tOrdinal0 [0x00F3E3A8+1827752]\n\tOrdinal0 [0x00F3E495+1827989]\n\tOrdinal0 [0x00F480A4+1867940]\n\tBaseThreadInitThunk [0x75CEFA29+25]\n\tRtlGetAppContainerNamedObjectPath [0x77307B5E+286]\n\tRtlGetAppContainerNamedObjectPath [0x77307B2E+238]\n",
     "output_type": "error",
     "traceback": [
      "\u001b[1;31m---------------------------------------------------------------------------\u001b[0m",
      "\u001b[1;31mStaleElementReferenceException\u001b[0m            Traceback (most recent call last)",
      "Input \u001b[1;32mIn [11]\u001b[0m, in \u001b[0;36m<cell line: 3>\u001b[1;34m()\u001b[0m\n\u001b[0;32m      1\u001b[0m comments_person \u001b[38;5;241m=\u001b[39m []\n\u001b[0;32m      3\u001b[0m \u001b[38;5;28;01mfor\u001b[39;00m i \u001b[38;5;129;01min\u001b[39;00m comments_name:\n\u001b[1;32m----> 4\u001b[0m     comments_name \u001b[38;5;241m=\u001b[39m \u001b[43mi\u001b[49m\u001b[38;5;241;43m.\u001b[39;49m\u001b[43mtext\u001b[49m\n\u001b[0;32m      5\u001b[0m     comments_person\u001b[38;5;241m.\u001b[39mappend(comments_name)\n\u001b[0;32m      6\u001b[0m comments_person\n",
      "File \u001b[1;32m~\\anaconda3\\lib\\site-packages\\selenium\\webdriver\\remote\\webelement.py:84\u001b[0m, in \u001b[0;36mWebElement.text\u001b[1;34m(self)\u001b[0m\n\u001b[0;32m     81\u001b[0m \u001b[38;5;129m@property\u001b[39m\n\u001b[0;32m     82\u001b[0m \u001b[38;5;28;01mdef\u001b[39;00m \u001b[38;5;21mtext\u001b[39m(\u001b[38;5;28mself\u001b[39m) \u001b[38;5;241m-\u001b[39m\u001b[38;5;241m>\u001b[39m \u001b[38;5;28mstr\u001b[39m:\n\u001b[0;32m     83\u001b[0m     \u001b[38;5;124;03m\"\"\"The text of the element.\"\"\"\u001b[39;00m\n\u001b[1;32m---> 84\u001b[0m     \u001b[38;5;28;01mreturn\u001b[39;00m \u001b[38;5;28;43mself\u001b[39;49m\u001b[38;5;241;43m.\u001b[39;49m\u001b[43m_execute\u001b[49m\u001b[43m(\u001b[49m\u001b[43mCommand\u001b[49m\u001b[38;5;241;43m.\u001b[39;49m\u001b[43mGET_ELEMENT_TEXT\u001b[49m\u001b[43m)\u001b[49m[\u001b[38;5;124m'\u001b[39m\u001b[38;5;124mvalue\u001b[39m\u001b[38;5;124m'\u001b[39m]\n",
      "File \u001b[1;32m~\\anaconda3\\lib\\site-packages\\selenium\\webdriver\\remote\\webelement.py:396\u001b[0m, in \u001b[0;36mWebElement._execute\u001b[1;34m(self, command, params)\u001b[0m\n\u001b[0;32m    394\u001b[0m     params \u001b[38;5;241m=\u001b[39m {}\n\u001b[0;32m    395\u001b[0m params[\u001b[38;5;124m'\u001b[39m\u001b[38;5;124mid\u001b[39m\u001b[38;5;124m'\u001b[39m] \u001b[38;5;241m=\u001b[39m \u001b[38;5;28mself\u001b[39m\u001b[38;5;241m.\u001b[39m_id\n\u001b[1;32m--> 396\u001b[0m \u001b[38;5;28;01mreturn\u001b[39;00m \u001b[38;5;28;43mself\u001b[39;49m\u001b[38;5;241;43m.\u001b[39;49m\u001b[43m_parent\u001b[49m\u001b[38;5;241;43m.\u001b[39;49m\u001b[43mexecute\u001b[49m\u001b[43m(\u001b[49m\u001b[43mcommand\u001b[49m\u001b[43m,\u001b[49m\u001b[43m \u001b[49m\u001b[43mparams\u001b[49m\u001b[43m)\u001b[49m\n",
      "File \u001b[1;32m~\\anaconda3\\lib\\site-packages\\selenium\\webdriver\\remote\\webdriver.py:435\u001b[0m, in \u001b[0;36mWebDriver.execute\u001b[1;34m(self, driver_command, params)\u001b[0m\n\u001b[0;32m    433\u001b[0m response \u001b[38;5;241m=\u001b[39m \u001b[38;5;28mself\u001b[39m\u001b[38;5;241m.\u001b[39mcommand_executor\u001b[38;5;241m.\u001b[39mexecute(driver_command, params)\n\u001b[0;32m    434\u001b[0m \u001b[38;5;28;01mif\u001b[39;00m response:\n\u001b[1;32m--> 435\u001b[0m     \u001b[38;5;28;43mself\u001b[39;49m\u001b[38;5;241;43m.\u001b[39;49m\u001b[43merror_handler\u001b[49m\u001b[38;5;241;43m.\u001b[39;49m\u001b[43mcheck_response\u001b[49m\u001b[43m(\u001b[49m\u001b[43mresponse\u001b[49m\u001b[43m)\u001b[49m\n\u001b[0;32m    436\u001b[0m     response[\u001b[38;5;124m'\u001b[39m\u001b[38;5;124mvalue\u001b[39m\u001b[38;5;124m'\u001b[39m] \u001b[38;5;241m=\u001b[39m \u001b[38;5;28mself\u001b[39m\u001b[38;5;241m.\u001b[39m_unwrap_value(\n\u001b[0;32m    437\u001b[0m         response\u001b[38;5;241m.\u001b[39mget(\u001b[38;5;124m'\u001b[39m\u001b[38;5;124mvalue\u001b[39m\u001b[38;5;124m'\u001b[39m, \u001b[38;5;28;01mNone\u001b[39;00m))\n\u001b[0;32m    438\u001b[0m     \u001b[38;5;28;01mreturn\u001b[39;00m response\n",
      "File \u001b[1;32m~\\anaconda3\\lib\\site-packages\\selenium\\webdriver\\remote\\errorhandler.py:247\u001b[0m, in \u001b[0;36mErrorHandler.check_response\u001b[1;34m(self, response)\u001b[0m\n\u001b[0;32m    245\u001b[0m         alert_text \u001b[38;5;241m=\u001b[39m value[\u001b[38;5;124m'\u001b[39m\u001b[38;5;124malert\u001b[39m\u001b[38;5;124m'\u001b[39m]\u001b[38;5;241m.\u001b[39mget(\u001b[38;5;124m'\u001b[39m\u001b[38;5;124mtext\u001b[39m\u001b[38;5;124m'\u001b[39m)\n\u001b[0;32m    246\u001b[0m     \u001b[38;5;28;01mraise\u001b[39;00m exception_class(message, screen, stacktrace, alert_text)  \u001b[38;5;66;03m# type: ignore[call-arg]  # mypy is not smart enough here\u001b[39;00m\n\u001b[1;32m--> 247\u001b[0m \u001b[38;5;28;01mraise\u001b[39;00m exception_class(message, screen, stacktrace)\n",
      "\u001b[1;31mStaleElementReferenceException\u001b[0m: Message: stale element reference: element is not attached to the page document\n  (Session info: chrome=105.0.5195.127)\nStacktrace:\nBacktrace:\n\tOrdinal0 [0x00F9DF13+2219795]\n\tOrdinal0 [0x00F32841+1779777]\n\tOrdinal0 [0x00E4423D+803389]\n\tOrdinal0 [0x00E46D04+814340]\n\tOrdinal0 [0x00E46BC2+814018]\n\tOrdinal0 [0x00E46E50+814672]\n\tOrdinal0 [0x00E6E91F+977183]\n\tOrdinal0 [0x00E8E7FC+1107964]\n\tOrdinal0 [0x00E694B4+955572]\n\tOrdinal0 [0x00E8EA14+1108500]\n\tOrdinal0 [0x00E9F192+1175954]\n\tOrdinal0 [0x00E8E616+1107478]\n\tOrdinal0 [0x00E67F89+950153]\n\tOrdinal0 [0x00E68F56+954198]\n\tGetHandleVerifier [0x01292CB2+3040210]\n\tGetHandleVerifier [0x01282BB4+2974420]\n\tGetHandleVerifier [0x01036A0A+565546]\n\tGetHandleVerifier [0x01035680+560544]\n\tOrdinal0 [0x00F39A5C+1808988]\n\tOrdinal0 [0x00F3E3A8+1827752]\n\tOrdinal0 [0x00F3E495+1827989]\n\tOrdinal0 [0x00F480A4+1867940]\n\tBaseThreadInitThunk [0x75CEFA29+25]\n\tRtlGetAppContainerNamedObjectPath [0x77307B5E+286]\n\tRtlGetAppContainerNamedObjectPath [0x77307B2E+238]\n"
     ]
    }
   ],
   "source": [
    "c = []\n",
    "\n",
    "for i in comments_name:\n",
    "     = i.text\n",
    "    comments_person.append(comments_name)\n",
    "comments_person"
   ]
  },
  {
   "cell_type": "code",
   "execution_count": null,
   "id": "39c839f3",
   "metadata": {},
   "outputs": [],
   "source": []
  }
 ],
 "metadata": {
  "kernelspec": {
   "display_name": "Python 3 (ipykernel)",
   "language": "python",
   "name": "python3"
  },
  "language_info": {
   "codemirror_mode": {
    "name": "ipython",
    "version": 3
   },
   "file_extension": ".py",
   "mimetype": "text/x-python",
   "name": "python",
   "nbconvert_exporter": "python",
   "pygments_lexer": "ipython3",
   "version": "3.9.12"
  }
 },
 "nbformat": 4,
 "nbformat_minor": 5
}
