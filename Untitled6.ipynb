{
 "cells": [
  {
   "cell_type": "code",
   "execution_count": 1,
   "id": "67273329",
   "metadata": {},
   "outputs": [
    {
     "name": "stdout",
     "output_type": "stream",
     "text": [
      "Chutiya ho ka be\n"
     ]
    }
   ],
   "source": [
    "try:\n",
    "    f = open('diabetes', 'w')\n",
    "    f.read('Test read this')\n",
    "except:\n",
    "    print('Chutiya ho ka be')\n",
    "else:\n",
    "    print('done')\n",
    "    f.close()"
   ]
  },
  {
   "cell_type": "code",
   "execution_count": 2,
   "id": "50aa3e0c",
   "metadata": {},
   "outputs": [
    {
     "name": "stdout",
     "output_type": "stream",
     "text": [
      "done\n"
     ]
    }
   ],
   "source": [
    "try:\n",
    "    f = open('diabetes', 'w')\n",
    "    f.write('Test read this')\n",
    "except:\n",
    "    print('Chutiya ho ka be')\n",
    "else:\n",
    "    print('done')\n",
    "    f.close()"
   ]
  },
  {
   "cell_type": "code",
   "execution_count": 8,
   "id": "43c799b9",
   "metadata": {},
   "outputs": [],
   "source": [
    "def askint():\n",
    "        try:\n",
    "            val = int(input('Enter the value'))\n",
    "        \n",
    "        except:\n",
    "            print('it look like you have not entered the integer')\n",
    "        \n",
    "        finally:\n",
    "            print('jo v ho chalo ho gaya bye')\n",
    "        print(val)\n",
    "        \n",
    "        \n"
   ]
  },
  {
   "cell_type": "code",
   "execution_count": 9,
   "id": "cfd61ef4",
   "metadata": {},
   "outputs": [
    {
     "name": "stdout",
     "output_type": "stream",
     "text": [
      "Enter the valueabc\n",
      "it look like you have not entered the integer\n",
      "jo v ho chalo ho gaya bye\n"
     ]
    },
    {
     "ename": "UnboundLocalError",
     "evalue": "local variable 'val' referenced before assignment",
     "output_type": "error",
     "traceback": [
      "\u001b[1;31m---------------------------------------------------------------------------\u001b[0m",
      "\u001b[1;31mUnboundLocalError\u001b[0m                         Traceback (most recent call last)",
      "Input \u001b[1;32mIn [9]\u001b[0m, in \u001b[0;36m<cell line: 1>\u001b[1;34m()\u001b[0m\n\u001b[1;32m----> 1\u001b[0m \u001b[43maskint\u001b[49m\u001b[43m(\u001b[49m\u001b[43m)\u001b[49m\n",
      "Input \u001b[1;32mIn [8]\u001b[0m, in \u001b[0;36maskint\u001b[1;34m()\u001b[0m\n\u001b[0;32m      8\u001b[0m \u001b[38;5;28;01mfinally\u001b[39;00m:\n\u001b[0;32m      9\u001b[0m     \u001b[38;5;28mprint\u001b[39m(\u001b[38;5;124m'\u001b[39m\u001b[38;5;124mjo v ho chalo ho gaya bye\u001b[39m\u001b[38;5;124m'\u001b[39m)\n\u001b[1;32m---> 10\u001b[0m \u001b[38;5;28mprint\u001b[39m(\u001b[43mval\u001b[49m)\n",
      "\u001b[1;31mUnboundLocalError\u001b[0m: local variable 'val' referenced before assignment"
     ]
    }
   ],
   "source": [
    "askint()"
   ]
  },
  {
   "cell_type": "code",
   "execution_count": 10,
   "id": "616359b2",
   "metadata": {},
   "outputs": [
    {
     "name": "stdout",
     "output_type": "stream",
     "text": [
      "Enter the value400\n",
      "jo v ho chalo ho gaya bye\n",
      "400\n"
     ]
    }
   ],
   "source": [
    "askint()"
   ]
  },
  {
   "cell_type": "code",
   "execution_count": null,
   "id": "f042f6c1",
   "metadata": {},
   "outputs": [],
   "source": []
  }
 ],
 "metadata": {
  "kernelspec": {
   "display_name": "Python 3 (ipykernel)",
   "language": "python",
   "name": "python3"
  },
  "language_info": {
   "codemirror_mode": {
    "name": "ipython",
    "version": 3
   },
   "file_extension": ".py",
   "mimetype": "text/x-python",
   "name": "python",
   "nbconvert_exporter": "python",
   "pygments_lexer": "ipython3",
   "version": "3.9.12"
  }
 },
 "nbformat": 4,
 "nbformat_minor": 5
}
